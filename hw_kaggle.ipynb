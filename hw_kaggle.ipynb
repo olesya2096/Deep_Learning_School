{
  "nbformat": 4,
  "nbformat_minor": 0,
  "metadata": {
    "colab": {
      "provenance": []
    },
    "kernelspec": {
      "name": "python3",
      "display_name": "Python 3"
    },
    "language_info": {
      "name": "python"
    },
    "gpuClass": "standard"
  },
  "cells": [
    {
      "cell_type": "markdown",
      "metadata": {
        "id": "TK7oX5qdEEYr"
      },
      "source": [
        "# Домашнее задание. Решение конкурса на kaggle.com\n",
        "\n",
        "Это домашнее задание посвящено полноценному решению задачи машинного обучения."
      ]
    },
    {
      "cell_type": "markdown",
      "metadata": {
        "id": "zlB-owfaEEYs"
      },
      "source": [
        "Есть две части этого домашнего задания: \n",
        "\n",
        "### Отправить ваши предсказания в Stepik.\n",
        "За прохождение определенных порогов будут начисляться баллы. Эта часть оценивается из 5 баллов.\n",
        "\n",
        "1) $1.00 \\geqslant score \\geqslant 0.84$ --- 5 баллов\n",
        "\n",
        "2) $0.84 > score \\geqslant 0.77$ --- 4 балла\n",
        "\n",
        "3) $0.77 > score \\geqslant 0.70$ --- 3 балла\n",
        "\n",
        "4) $0.70 > score \\geqslant 0.65$ --- 2 балла\n",
        "\n",
        "5) $0.65 > score \\geqslant 0.6$ --- 1 балл\n",
        "\n",
        "6) $0.60 > score$ --- 0 баллов\n",
        "\n",
        "Для этого мы предварительно разделили данные в задании на две части.\n",
        "* `train.csv`. На этом наборе данных вам необходимо создать и обучить модель. Подробное описание файла есть в ноутбуке.\n",
        "* `test.csv`. В каждой строчке файла `test.csv` указаны признаки тестовых объектов. Предсказания для этого набора необходимо записать в файл submission.csv и сдать в соответствующий шаг на Stepik. Количество попыток ограничено 100 штук.\n",
        "\n",
        "Отправлять в Stepik вы будете файл с ответами `my_submission.csv`. В этом файле вам необходимо для каждого объекта из датасета предсказать вероятность класса 1. Мы подготовили для вас файл с примером посылки `submission.csv`. Ваш файл должен быть оформлен таким же образом. В ноутбуке есть пример оформления файла посылки. Для отправки файла с предсказаниями на Stepik есть отдельный шаг.\n",
        "\n",
        "### Сделать полноценный отчет о вашей работе.\n",
        "Опишите, как вы обработали данные, какие модели попробовали и какие результаты получились (максимум 10 баллов). За каждую выполненную часть будет начислено определенное количество баллов. В этом пункте вам необходимо отправить файл в формате .ipynb на Stepik --- для этого в домашнем задании есть отдельный шаг. Этот пункт оценивается из 10 баллов.\n",
        "\n",
        "**Вторая часть будет проверяться в формате peer-review. Т.е. вашу посылку на Stepik будут проверять 3 других студента, и медианное значение их оценок будет выставлено. Чтобы получить баллы, вам также нужно будет проверить трех других учеников. Это станет доступно после того, как вы сдадите задание сами.**\n",
        "\n",
        "### Контест на Kaggle\n",
        "Для вашего удобства мы подготовили [контест на Kaggle](https://www.kaggle.com/c/advanced-dls-spring-2021/). Тестирующая система на Kaggle выдает те же баллы, что и Stepik. Мы рекомендуем в качестве основной тестирующей системы использовать именно Kaggle, а затем сдать лучшую посылку на Stepik. Так вы привыкните работать с Kaggle. \n",
        "\n",
        "Проблема для российских пользователей Kaggle заключается в том, что подтверждение аккаунта по номеру телефона работает с перебоями или не работает вообще. Без подтвержденного номера телефона вы не сможете совершать посылки в kaggle. Если у вас возникла такая проблема, мы советуем следующие шаги:\n",
        "* Попробовать зарегистрировать аккаунт с аутентификацией через gmail. В таком случае, аккаунт должен работать без подтверждения номера телефона.\n",
        "* Если у вас есть не российский номер, используйте его для верификации аккаунта.\n",
        "* Если на номер телефона не приходит смс для верификации аккаунта, обратитесь в службу поддержки kaggle. Они с переменным успехом умеют подтверждать аккаунты вручную.\n",
        "* Если все же подтвердить аккаунт и получить доступ к сдаче заданий не удалось, используйте только сдачу в Stepik.\n",
        "\n",
        "### Несколько замечаний по выполнению работы\n",
        "* Во всех пунктах указания это минимальный набор вещей, которые стоит сделать. Если вы можете сделать какой-то шаг лучше или добавить что-то свое --- дерзайте!\n",
        "* Пожалуйста, перед сдачей ноутбука убедитесь, что работа чистая и понятная. Это значительно облегчит проверку и повысит ваши ожидаемые баллы. \n",
        "* Если у вас будут проблемы с решением или хочется совета, то пишите в наш чат в телеграме.\n",
        "\n",
        "\n",
        "Данные: [train.csv](https://drive.google.com/file/d/1ERwQ5odiK1Zvi1LtjpkzCMUswYsAX8_K/view?usp=share_link), \n",
        "[test.csv](https://drive.google.com/file/d/1fGw_-RFwvn_LEdt91Jq-7A-wzG6mmH8r/view?usp=share_link), [submission.csv](https://drive.google.com/file/d/199Mt4OYZNaelT83U-HGDsEYs2YcUGQ6y/view?usp=share_link). \n",
        "\n",
        "Если ссылки на данные не работают, их можно скачать [на Kaggle](https://www.kaggle.com/competitions/advanced-dls-spring-2021/data)."
      ]
    },
    {
      "cell_type": "markdown",
      "metadata": {
        "id": "Tu_JvqcBEN8Y"
      },
      "source": [
        "# Как проверять?\n",
        "\n",
        "Ставьте полный балл, если выполнены все рекомендации или сделано что-то более интересное и сложное. За каждый отсустствующий пункт из рекомендации снижайте 1 балл.\n",
        "\n",
        "**Если решение верное, но не удовлетворяет вашим эстетическим предпочтениям, за это баллы снижать не нужно.**"
      ]
    },
    {
      "cell_type": "markdown",
      "metadata": {
        "id": "ninJ63mJEEYt"
      },
      "source": [
        "# Метрика\n",
        "\n",
        "Перед решением любой задачи важно понимать, как будет оцениваться ваше решение. В данном случае мы используем стандартную для задачи классификации метрику ROC-AUC. Ее можно вычислить, используя только предсказанные вероятности и истинные классы без конкретного порога классификации + она раотает даже если классы в данных сильно несбалансированны (примеров одного класса в десятки раз больше примеров длугого). Именно поэтому она очень удобна для соревнований.\n",
        "\n",
        "Посчитать ее легко:\n"
      ]
    },
    {
      "cell_type": "code",
      "metadata": {
        "id": "SQIrka7yEEYu",
        "outputId": "ce92d47c-91b4-4d06-c757-364d29bc3d79",
        "colab": {
          "base_uri": "https://localhost:8080/"
        }
      },
      "source": [
        "from sklearn.metrics import roc_auc_score\n",
        "\n",
        "y_true = [\n",
        "    0,\n",
        "    1,\n",
        "    1,\n",
        "    0,\n",
        "    1\n",
        "]\n",
        "\n",
        "y_predictions = [\n",
        "    0.1,\n",
        "    0.9,\n",
        "    0.4,\n",
        "    0.6,\n",
        "    0.61\n",
        "]\n",
        "\n",
        "roc_auc_score(y_true, y_predictions)"
      ],
      "execution_count": 98,
      "outputs": [
        {
          "output_type": "execute_result",
          "data": {
            "text/plain": [
              "0.8333333333333333"
            ]
          },
          "metadata": {},
          "execution_count": 98
        }
      ]
    },
    {
      "cell_type": "markdown",
      "metadata": {
        "id": "IrDNNkNTEEYz"
      },
      "source": [
        "# Первая часть. Исследование"
      ]
    },
    {
      "cell_type": "code",
      "metadata": {
        "id": "lzLqEeZKEEYz"
      },
      "source": [
        "import pandas as pd\n",
        "import numpy as np\n",
        "from matplotlib import pyplot as plt"
      ],
      "execution_count": 99,
      "outputs": []
    },
    {
      "cell_type": "markdown",
      "metadata": {
        "id": "LOlxdURSEEY3"
      },
      "source": [
        "## Загрузка данных (2 балла)\n",
        "\n",
        "1) Посмотрите на случайные строчки. \n",
        "\n",
        "2) Посмотрите, есть ли в датасете незаполненные значения (nan'ы) с помощью data.isna() или data.info() и, если нужно, замените их на что-то. Будет хорошо, если вы построите табличку с количеством nan в каждой колонке."
      ]
    },
    {
      "cell_type": "code",
      "source": [
        "!gdown 1ERwQ5odiK1Zvi1LtjpkzCMUswYsAX8_K  # train.csv\n",
        "!gdown 1fGw_-RFwvn_LEdt91Jq-7A-wzG6mmH8r  # test.csv\n",
        "!gdown 199Mt4OYZNaelT83U-HGDsEYs2YcUGQ6y  # submission.csv"
      ],
      "metadata": {
        "id": "XULA1f3ch6RL",
        "colab": {
          "base_uri": "https://localhost:8080/"
        },
        "outputId": "d6f7196b-5b97-4fd1-8a04-53a9dfb89564"
      },
      "execution_count": 100,
      "outputs": [
        {
          "output_type": "stream",
          "name": "stdout",
          "text": [
            "Downloading...\n",
            "From: https://drive.google.com/uc?id=1ERwQ5odiK1Zvi1LtjpkzCMUswYsAX8_K\n",
            "To: /content/train.csv\n",
            "100% 664k/664k [00:00<00:00, 92.1MB/s]\n",
            "Downloading...\n",
            "From: https://drive.google.com/uc?id=1fGw_-RFwvn_LEdt91Jq-7A-wzG6mmH8r\n",
            "To: /content/test.csv\n",
            "100% 218k/218k [00:00<00:00, 97.6MB/s]\n",
            "Downloading...\n",
            "From: https://drive.google.com/uc?id=199Mt4OYZNaelT83U-HGDsEYs2YcUGQ6y\n",
            "To: /content/submission.csv\n",
            "100% 14.7k/14.7k [00:00<00:00, 21.1MB/s]\n"
          ]
        }
      ]
    },
    {
      "cell_type": "code",
      "metadata": {
        "id": "pw-Brue9EEY3"
      },
      "source": [
        "data = pd.read_csv('./train.csv')"
      ],
      "execution_count": 101,
      "outputs": []
    },
    {
      "cell_type": "code",
      "metadata": {
        "id": "KgnkkF5bEEY9"
      },
      "source": [
        "# Для вашего удобства списки с именами разных колонок\n",
        "\n",
        "# Числовые признаки\n",
        "num_cols = [\n",
        "    'ClientPeriod',\n",
        "    'MonthlySpending',\n",
        "    'TotalSpent'\n",
        "]\n",
        "\n",
        "# Категориальные признаки\n",
        "cat_cols = [\n",
        "    'Sex',\n",
        "    'IsSeniorCitizen',\n",
        "    'HasPartner',\n",
        "    'HasChild',\n",
        "    'HasPhoneService',\n",
        "    'HasMultiplePhoneNumbers',\n",
        "    'HasInternetService',\n",
        "    'HasOnlineSecurityService',\n",
        "    'HasOnlineBackup',\n",
        "    'HasDeviceProtection',\n",
        "    'HasTechSupportAccess',\n",
        "    'HasOnlineTV',\n",
        "    'HasMovieSubscription',\n",
        "    'HasContractPhone',\n",
        "    'IsBillingPaperless',\n",
        "    'PaymentMethod'\n",
        "]\n",
        "\n",
        "feature_cols = num_cols + cat_cols\n",
        "target_col = 'Churn'"
      ],
      "execution_count": 102,
      "outputs": []
    },
    {
      "cell_type": "code",
      "metadata": {
        "id": "tHC6gWabEEZA",
        "colab": {
          "base_uri": "https://localhost:8080/",
          "height": 319
        },
        "outputId": "a052c377-36f9-44c1-86cc-31d32c9d6b8f"
      },
      "source": [
        "data.head()"
      ],
      "execution_count": 103,
      "outputs": [
        {
          "output_type": "execute_result",
          "data": {
            "text/plain": [
              "   ClientPeriod  MonthlySpending TotalSpent     Sex  IsSeniorCitizen  \\\n",
              "0            55            19.50    1026.35    Male                0   \n",
              "1            72            25.85     1872.2    Male                0   \n",
              "2             1            75.90       75.9    Male                0   \n",
              "3            32            79.30       2570  Female                1   \n",
              "4            60           115.25    6758.45  Female                0   \n",
              "\n",
              "  HasPartner HasChild HasPhoneService HasMultiplePhoneNumbers  \\\n",
              "0        Yes      Yes             Yes                      No   \n",
              "1        Yes       No             Yes                     Yes   \n",
              "2         No       No             Yes                      No   \n",
              "3        Yes       No             Yes                     Yes   \n",
              "4        Yes      Yes             Yes                     Yes   \n",
              "\n",
              "  HasInternetService HasOnlineSecurityService      HasOnlineBackup  \\\n",
              "0                 No      No internet service  No internet service   \n",
              "1                 No      No internet service  No internet service   \n",
              "2        Fiber optic                       No                   No   \n",
              "3        Fiber optic                       No                   No   \n",
              "4        Fiber optic                      Yes                  Yes   \n",
              "\n",
              "   HasDeviceProtection HasTechSupportAccess          HasOnlineTV  \\\n",
              "0  No internet service  No internet service  No internet service   \n",
              "1  No internet service  No internet service  No internet service   \n",
              "2                   No                  Yes                   No   \n",
              "3                  Yes                   No                   No   \n",
              "4                  Yes                  Yes                  Yes   \n",
              "\n",
              "  HasMovieSubscription HasContractPhone IsBillingPaperless  \\\n",
              "0  No internet service         One year                 No   \n",
              "1  No internet service         Two year                 No   \n",
              "2                   No   Month-to-month                Yes   \n",
              "3                   No   Month-to-month                 No   \n",
              "4                  Yes         Two year                 No   \n",
              "\n",
              "             PaymentMethod  Churn  \n",
              "0             Mailed check      0  \n",
              "1  Credit card (automatic)      0  \n",
              "2         Electronic check      1  \n",
              "3             Mailed check      0  \n",
              "4  Credit card (automatic)      0  "
            ],
            "text/html": [
              "\n",
              "  <div id=\"df-9337202d-5a4c-48d2-a743-fbab00303b1d\">\n",
              "    <div class=\"colab-df-container\">\n",
              "      <div>\n",
              "<style scoped>\n",
              "    .dataframe tbody tr th:only-of-type {\n",
              "        vertical-align: middle;\n",
              "    }\n",
              "\n",
              "    .dataframe tbody tr th {\n",
              "        vertical-align: top;\n",
              "    }\n",
              "\n",
              "    .dataframe thead th {\n",
              "        text-align: right;\n",
              "    }\n",
              "</style>\n",
              "<table border=\"1\" class=\"dataframe\">\n",
              "  <thead>\n",
              "    <tr style=\"text-align: right;\">\n",
              "      <th></th>\n",
              "      <th>ClientPeriod</th>\n",
              "      <th>MonthlySpending</th>\n",
              "      <th>TotalSpent</th>\n",
              "      <th>Sex</th>\n",
              "      <th>IsSeniorCitizen</th>\n",
              "      <th>HasPartner</th>\n",
              "      <th>HasChild</th>\n",
              "      <th>HasPhoneService</th>\n",
              "      <th>HasMultiplePhoneNumbers</th>\n",
              "      <th>HasInternetService</th>\n",
              "      <th>HasOnlineSecurityService</th>\n",
              "      <th>HasOnlineBackup</th>\n",
              "      <th>HasDeviceProtection</th>\n",
              "      <th>HasTechSupportAccess</th>\n",
              "      <th>HasOnlineTV</th>\n",
              "      <th>HasMovieSubscription</th>\n",
              "      <th>HasContractPhone</th>\n",
              "      <th>IsBillingPaperless</th>\n",
              "      <th>PaymentMethod</th>\n",
              "      <th>Churn</th>\n",
              "    </tr>\n",
              "  </thead>\n",
              "  <tbody>\n",
              "    <tr>\n",
              "      <th>0</th>\n",
              "      <td>55</td>\n",
              "      <td>19.50</td>\n",
              "      <td>1026.35</td>\n",
              "      <td>Male</td>\n",
              "      <td>0</td>\n",
              "      <td>Yes</td>\n",
              "      <td>Yes</td>\n",
              "      <td>Yes</td>\n",
              "      <td>No</td>\n",
              "      <td>No</td>\n",
              "      <td>No internet service</td>\n",
              "      <td>No internet service</td>\n",
              "      <td>No internet service</td>\n",
              "      <td>No internet service</td>\n",
              "      <td>No internet service</td>\n",
              "      <td>No internet service</td>\n",
              "      <td>One year</td>\n",
              "      <td>No</td>\n",
              "      <td>Mailed check</td>\n",
              "      <td>0</td>\n",
              "    </tr>\n",
              "    <tr>\n",
              "      <th>1</th>\n",
              "      <td>72</td>\n",
              "      <td>25.85</td>\n",
              "      <td>1872.2</td>\n",
              "      <td>Male</td>\n",
              "      <td>0</td>\n",
              "      <td>Yes</td>\n",
              "      <td>No</td>\n",
              "      <td>Yes</td>\n",
              "      <td>Yes</td>\n",
              "      <td>No</td>\n",
              "      <td>No internet service</td>\n",
              "      <td>No internet service</td>\n",
              "      <td>No internet service</td>\n",
              "      <td>No internet service</td>\n",
              "      <td>No internet service</td>\n",
              "      <td>No internet service</td>\n",
              "      <td>Two year</td>\n",
              "      <td>No</td>\n",
              "      <td>Credit card (automatic)</td>\n",
              "      <td>0</td>\n",
              "    </tr>\n",
              "    <tr>\n",
              "      <th>2</th>\n",
              "      <td>1</td>\n",
              "      <td>75.90</td>\n",
              "      <td>75.9</td>\n",
              "      <td>Male</td>\n",
              "      <td>0</td>\n",
              "      <td>No</td>\n",
              "      <td>No</td>\n",
              "      <td>Yes</td>\n",
              "      <td>No</td>\n",
              "      <td>Fiber optic</td>\n",
              "      <td>No</td>\n",
              "      <td>No</td>\n",
              "      <td>No</td>\n",
              "      <td>Yes</td>\n",
              "      <td>No</td>\n",
              "      <td>No</td>\n",
              "      <td>Month-to-month</td>\n",
              "      <td>Yes</td>\n",
              "      <td>Electronic check</td>\n",
              "      <td>1</td>\n",
              "    </tr>\n",
              "    <tr>\n",
              "      <th>3</th>\n",
              "      <td>32</td>\n",
              "      <td>79.30</td>\n",
              "      <td>2570</td>\n",
              "      <td>Female</td>\n",
              "      <td>1</td>\n",
              "      <td>Yes</td>\n",
              "      <td>No</td>\n",
              "      <td>Yes</td>\n",
              "      <td>Yes</td>\n",
              "      <td>Fiber optic</td>\n",
              "      <td>No</td>\n",
              "      <td>No</td>\n",
              "      <td>Yes</td>\n",
              "      <td>No</td>\n",
              "      <td>No</td>\n",
              "      <td>No</td>\n",
              "      <td>Month-to-month</td>\n",
              "      <td>No</td>\n",
              "      <td>Mailed check</td>\n",
              "      <td>0</td>\n",
              "    </tr>\n",
              "    <tr>\n",
              "      <th>4</th>\n",
              "      <td>60</td>\n",
              "      <td>115.25</td>\n",
              "      <td>6758.45</td>\n",
              "      <td>Female</td>\n",
              "      <td>0</td>\n",
              "      <td>Yes</td>\n",
              "      <td>Yes</td>\n",
              "      <td>Yes</td>\n",
              "      <td>Yes</td>\n",
              "      <td>Fiber optic</td>\n",
              "      <td>Yes</td>\n",
              "      <td>Yes</td>\n",
              "      <td>Yes</td>\n",
              "      <td>Yes</td>\n",
              "      <td>Yes</td>\n",
              "      <td>Yes</td>\n",
              "      <td>Two year</td>\n",
              "      <td>No</td>\n",
              "      <td>Credit card (automatic)</td>\n",
              "      <td>0</td>\n",
              "    </tr>\n",
              "  </tbody>\n",
              "</table>\n",
              "</div>\n",
              "      <button class=\"colab-df-convert\" onclick=\"convertToInteractive('df-9337202d-5a4c-48d2-a743-fbab00303b1d')\"\n",
              "              title=\"Convert this dataframe to an interactive table.\"\n",
              "              style=\"display:none;\">\n",
              "        \n",
              "  <svg xmlns=\"http://www.w3.org/2000/svg\" height=\"24px\"viewBox=\"0 0 24 24\"\n",
              "       width=\"24px\">\n",
              "    <path d=\"M0 0h24v24H0V0z\" fill=\"none\"/>\n",
              "    <path d=\"M18.56 5.44l.94 2.06.94-2.06 2.06-.94-2.06-.94-.94-2.06-.94 2.06-2.06.94zm-11 1L8.5 8.5l.94-2.06 2.06-.94-2.06-.94L8.5 2.5l-.94 2.06-2.06.94zm10 10l.94 2.06.94-2.06 2.06-.94-2.06-.94-.94-2.06-.94 2.06-2.06.94z\"/><path d=\"M17.41 7.96l-1.37-1.37c-.4-.4-.92-.59-1.43-.59-.52 0-1.04.2-1.43.59L10.3 9.45l-7.72 7.72c-.78.78-.78 2.05 0 2.83L4 21.41c.39.39.9.59 1.41.59.51 0 1.02-.2 1.41-.59l7.78-7.78 2.81-2.81c.8-.78.8-2.07 0-2.86zM5.41 20L4 18.59l7.72-7.72 1.47 1.35L5.41 20z\"/>\n",
              "  </svg>\n",
              "      </button>\n",
              "      \n",
              "  <style>\n",
              "    .colab-df-container {\n",
              "      display:flex;\n",
              "      flex-wrap:wrap;\n",
              "      gap: 12px;\n",
              "    }\n",
              "\n",
              "    .colab-df-convert {\n",
              "      background-color: #E8F0FE;\n",
              "      border: none;\n",
              "      border-radius: 50%;\n",
              "      cursor: pointer;\n",
              "      display: none;\n",
              "      fill: #1967D2;\n",
              "      height: 32px;\n",
              "      padding: 0 0 0 0;\n",
              "      width: 32px;\n",
              "    }\n",
              "\n",
              "    .colab-df-convert:hover {\n",
              "      background-color: #E2EBFA;\n",
              "      box-shadow: 0px 1px 2px rgba(60, 64, 67, 0.3), 0px 1px 3px 1px rgba(60, 64, 67, 0.15);\n",
              "      fill: #174EA6;\n",
              "    }\n",
              "\n",
              "    [theme=dark] .colab-df-convert {\n",
              "      background-color: #3B4455;\n",
              "      fill: #D2E3FC;\n",
              "    }\n",
              "\n",
              "    [theme=dark] .colab-df-convert:hover {\n",
              "      background-color: #434B5C;\n",
              "      box-shadow: 0px 1px 3px 1px rgba(0, 0, 0, 0.15);\n",
              "      filter: drop-shadow(0px 1px 2px rgba(0, 0, 0, 0.3));\n",
              "      fill: #FFFFFF;\n",
              "    }\n",
              "  </style>\n",
              "\n",
              "      <script>\n",
              "        const buttonEl =\n",
              "          document.querySelector('#df-9337202d-5a4c-48d2-a743-fbab00303b1d button.colab-df-convert');\n",
              "        buttonEl.style.display =\n",
              "          google.colab.kernel.accessAllowed ? 'block' : 'none';\n",
              "\n",
              "        async function convertToInteractive(key) {\n",
              "          const element = document.querySelector('#df-9337202d-5a4c-48d2-a743-fbab00303b1d');\n",
              "          const dataTable =\n",
              "            await google.colab.kernel.invokeFunction('convertToInteractive',\n",
              "                                                     [key], {});\n",
              "          if (!dataTable) return;\n",
              "\n",
              "          const docLinkHtml = 'Like what you see? Visit the ' +\n",
              "            '<a target=\"_blank\" href=https://colab.research.google.com/notebooks/data_table.ipynb>data table notebook</a>'\n",
              "            + ' to learn more about interactive tables.';\n",
              "          element.innerHTML = '';\n",
              "          dataTable['output_type'] = 'display_data';\n",
              "          await google.colab.output.renderOutput(dataTable, element);\n",
              "          const docLink = document.createElement('div');\n",
              "          docLink.innerHTML = docLinkHtml;\n",
              "          element.appendChild(docLink);\n",
              "        }\n",
              "      </script>\n",
              "    </div>\n",
              "  </div>\n",
              "  "
            ]
          },
          "metadata": {},
          "execution_count": 103
        }
      ]
    },
    {
      "cell_type": "code",
      "source": [
        "data.isna().sum() #табличка с количеством nan в каждой колонке"
      ],
      "metadata": {
        "colab": {
          "base_uri": "https://localhost:8080/"
        },
        "id": "ASBS_bFI1DBO",
        "outputId": "857555bc-72af-4983-c873-4b641c65806e"
      },
      "execution_count": 104,
      "outputs": [
        {
          "output_type": "execute_result",
          "data": {
            "text/plain": [
              "ClientPeriod                0\n",
              "MonthlySpending             0\n",
              "TotalSpent                  0\n",
              "Sex                         0\n",
              "IsSeniorCitizen             0\n",
              "HasPartner                  0\n",
              "HasChild                    0\n",
              "HasPhoneService             0\n",
              "HasMultiplePhoneNumbers     0\n",
              "HasInternetService          0\n",
              "HasOnlineSecurityService    0\n",
              "HasOnlineBackup             0\n",
              "HasDeviceProtection         0\n",
              "HasTechSupportAccess        0\n",
              "HasOnlineTV                 0\n",
              "HasMovieSubscription        0\n",
              "HasContractPhone            0\n",
              "IsBillingPaperless          0\n",
              "PaymentMethod               0\n",
              "Churn                       0\n",
              "dtype: int64"
            ]
          },
          "metadata": {},
          "execution_count": 104
        }
      ]
    },
    {
      "cell_type": "code",
      "source": [
        "data.info()"
      ],
      "metadata": {
        "colab": {
          "base_uri": "https://localhost:8080/"
        },
        "id": "ntKmvukc2YAL",
        "outputId": "c95c6ce3-20ed-4ef9-eb2a-904f19e5150c"
      },
      "execution_count": 105,
      "outputs": [
        {
          "output_type": "stream",
          "name": "stdout",
          "text": [
            "<class 'pandas.core.frame.DataFrame'>\n",
            "RangeIndex: 5282 entries, 0 to 5281\n",
            "Data columns (total 20 columns):\n",
            " #   Column                    Non-Null Count  Dtype  \n",
            "---  ------                    --------------  -----  \n",
            " 0   ClientPeriod              5282 non-null   int64  \n",
            " 1   MonthlySpending           5282 non-null   float64\n",
            " 2   TotalSpent                5282 non-null   object \n",
            " 3   Sex                       5282 non-null   object \n",
            " 4   IsSeniorCitizen           5282 non-null   int64  \n",
            " 5   HasPartner                5282 non-null   object \n",
            " 6   HasChild                  5282 non-null   object \n",
            " 7   HasPhoneService           5282 non-null   object \n",
            " 8   HasMultiplePhoneNumbers   5282 non-null   object \n",
            " 9   HasInternetService        5282 non-null   object \n",
            " 10  HasOnlineSecurityService  5282 non-null   object \n",
            " 11  HasOnlineBackup           5282 non-null   object \n",
            " 12  HasDeviceProtection       5282 non-null   object \n",
            " 13  HasTechSupportAccess      5282 non-null   object \n",
            " 14  HasOnlineTV               5282 non-null   object \n",
            " 15  HasMovieSubscription      5282 non-null   object \n",
            " 16  HasContractPhone          5282 non-null   object \n",
            " 17  IsBillingPaperless        5282 non-null   object \n",
            " 18  PaymentMethod             5282 non-null   object \n",
            " 19  Churn                     5282 non-null   int64  \n",
            "dtypes: float64(1), int64(3), object(16)\n",
            "memory usage: 825.4+ KB\n"
          ]
        }
      ]
    },
    {
      "cell_type": "code",
      "source": [
        "data['TotalSpent'].min(), data['TotalSpent'].max()"
      ],
      "metadata": {
        "colab": {
          "base_uri": "https://localhost:8080/"
        },
        "id": "Gf6w7IUUQ_Mw",
        "outputId": "1bb0f987-d0b9-476e-fa50-0403ba5e9b8c"
      },
      "execution_count": 106,
      "outputs": [
        {
          "output_type": "execute_result",
          "data": {
            "text/plain": [
              "(' ', '999.9')"
            ]
          },
          "metadata": {},
          "execution_count": 106
        }
      ]
    },
    {
      "cell_type": "code",
      "source": [
        "data['TotalSpent'] = pd.to_numeric(data['TotalSpent'], errors='coerce').fillna(0)"
      ],
      "metadata": {
        "id": "G4-EGV5m-EaM"
      },
      "execution_count": 107,
      "outputs": []
    },
    {
      "cell_type": "code",
      "source": [
        "#очистка от дупликатов - ухудшает качество модели\n",
        "# key = num_cols + cat_cols\n",
        "# data_dupout = data.drop_duplicates(subset=key)\n",
        "\n",
        "# print(data.shape)\n",
        "# print(data_dupout.shape)"
      ],
      "metadata": {
        "id": "51ak7sR8T2PP"
      },
      "execution_count": 108,
      "outputs": []
    },
    {
      "cell_type": "markdown",
      "metadata": {
        "id": "dK370bPCEEZD"
      },
      "source": [
        "## Анализ данных (3 балла)\n",
        "\n",
        "1) Для численных призанков постройте гистограмму (*plt.hist(...)*) или boxplot (*plt.boxplot(...)*). Для категориальных посчитайте количество каждого значения для каждого признака. Для каждой колонки надо сделать *data.value_counts()* и построить bar диаграммы *plt.bar(...)* или круговые диаграммы *plt.pie(...)* (хорошо, елси вы сможете это сделать на одном гарфике с помощью *plt.subplots(...)*). \n",
        "\n",
        "2) Посмотрите на распределение целевой переменной и скажите, являются ли классы несбалансированными.\n",
        "\n",
        "3) (Если будет желание) Поиграйте с разными библиотеками для визуализации - *sns*, *pandas_visual_analysis*, etc.\n",
        "\n",
        "Второй пункт очень важен, потому что существуют задачи классификации с несбалансированными классами. Например, это может значить, что в датасете намного больше примеров 0 класса. В таких случаях нужно 1) не использовать accuracy как метрику 2) использовать методы борьбы с imbalanced dataset (обычно если датасет сильно несбалансирован, т.е. класса 1 в 20 раз меньше класса 0)."
      ]
    },
    {
      "cell_type": "code",
      "source": [
        "for i in range(len(num_cols)):\n",
        "    plt.figure(figsize=(9, 5))\n",
        "    plt.hist(x=num_cols[i], data=data, bins=30, color = 'green')\n",
        "    plt.title(num_cols[i])\n",
        "    plt.show()"
      ],
      "metadata": {
        "colab": {
          "base_uri": "https://localhost:8080/",
          "height": 974
        },
        "id": "RXG59WugomGr",
        "outputId": "cdaf4e56-a049-47ee-fdbe-67c900329a24"
      },
      "execution_count": 109,
      "outputs": [
        {
          "output_type": "display_data",
          "data": {
            "text/plain": [
              "<Figure size 648x360 with 1 Axes>"
            ],
            "image/png": "[encoded data removed]"
          },
          "metadata": {
            "needs_background": "light"
          }
        },
        {
          "output_type": "display_data",
          "data": {
            "text/plain": [
              "<Figure size 648x360 with 1 Axes>"
            ],
            "image/png": "[encoded data removed]"
          },
          "metadata": {
            "needs_background": "light"
          }
        },
        {
          "output_type": "display_data",
          "data": {
            "text/plain": [
              "<Figure size 648x360 with 1 Axes>"
            ],
            "image/png": "[encoded data removed]"
          },
          "metadata": {
            "needs_background": "light"
          }
        }
      ]
    },
    {
      "cell_type": "code",
      "source": [
        "for i in range(len(num_cols)):\n",
        "    plt.figure(figsize=(9, 5))\n",
        "    plt.boxplot(x=num_cols[i], data=data)\n",
        "    plt.title(num_cols[i])\n",
        "    plt.show()"
      ],
      "metadata": {
        "colab": {
          "base_uri": "https://localhost:8080/",
          "height": 974
        },
        "id": "d4-E4wnxpVY2",
        "outputId": "16c94423-41ee-4923-8f89-5d665478a955"
      },
      "execution_count": 110,
      "outputs": [
        {
          "output_type": "display_data",
          "data": {
            "text/plain": [
              "<Figure size 648x360 with 1 Axes>"
            ],
            "image/png": "[encoded data removed]"
          },
          "metadata": {
            "needs_background": "light"
          }
        },
        {
          "output_type": "display_data",
          "data": {
            "text/plain": [
              "<Figure size 648x360 with 1 Axes>"
            ],
            "image/png": "[encoded data removed]"
          },
          "metadata": {
            "needs_background": "light"
          }
        },
        {
          "output_type": "display_data",
          "data": {
            "text/plain": [
              "<Figure size 648x360 with 1 Axes>"
            ],
            "image/png": "[encoded data removed]"
          },
          "metadata": {
            "needs_background": "light"
          }
        }
      ]
    },
    {
      "cell_type": "code",
      "source": [
        "fig, axes = plt.subplots(nrows=4, ncols=4, figsize=(20, 20))\n",
        "ax = axes.ravel()\n",
        "for i, cat in enumerate(cat_cols):\n",
        "    x = data[cat].value_counts()\n",
        "    index = x.index \n",
        "    ax[i].pie(x=x, labels=index, autopct='%1.1f%%')\n",
        "    ax[i].set_title(cat)"
      ],
      "metadata": {
        "colab": {
          "base_uri": "https://localhost:8080/",
          "height": 1000
        },
        "id": "bAHu434ykxW9",
        "outputId": "0ede1317-0a4e-43df-fa9f-b5ddfbe07732"
      },
      "execution_count": 111,
      "outputs": [
        {
          "output_type": "display_data",
          "data": {
            "text/plain": [
              "<Figure size 1440x1440 with 16 Axes>"
            ],
            "image/png": "[encoded data removed]"
          },
          "metadata": {}
        }
      ]
    },
    {
      "cell_type": "code",
      "source": [
        "import seaborn as sns\n",
        "plt.figure(figsize=(9, 5))\n",
        "x = data['Churn'].value_counts().index\n",
        "y = data['Churn'].value_counts().values\n",
        "sns.barplot(x, y)\n",
        "plt.show()"
      ],
      "metadata": {
        "colab": {
          "base_uri": "https://localhost:8080/",
          "height": 374
        },
        "id": "J6BDnbkErpej",
        "outputId": "40c38078-e6b4-4147-b772-e267b75a44aa"
      },
      "execution_count": 112,
      "outputs": [
        {
          "output_type": "stream",
          "name": "stderr",
          "text": [
            "/usr/local/lib/python3.9/dist-packages/seaborn/_decorators.py:36: FutureWarning: Pass the following variables as keyword args: x, y. From version 0.12, the only valid positional argument will be `data`, and passing other arguments without an explicit keyword will result in an error or misinterpretation.\n",
            "  warnings.warn(\n"
          ]
        },
        {
          "output_type": "display_data",
          "data": {
            "text/plain": [
              "<Figure size 648x360 with 1 Axes>"
            ],
            "image/png": "[encoded data removed]"
          },
          "metadata": {
            "needs_background": "light"
          }
        }
      ]
    },
    {
      "cell_type": "markdown",
      "metadata": {
        "id": "zg60u3QDEEZH"
      },
      "source": [
        "(Дополнительно) Если вы нашли какие-то ошибки в данных или выбросы, то можете их убрать. Тут можно поэксперементировать с обработкой данных как угодно, но не за баллы."
      ]
    },
    {
      "cell_type": "code",
      "metadata": {
        "id": "fwfksF1gEEZI"
      },
      "source": [
        "# YOUR CODE"
      ],
      "execution_count": 113,
      "outputs": []
    },
    {
      "cell_type": "markdown",
      "metadata": {
        "id": "DviiJd8REEZK"
      },
      "source": [
        "## Применение линейных моделей (3 балла)\n",
        "\n",
        "1) Обработайте данные для того, чтобы к ним можно было применить LogisticRegression. Т.е. отнормируйте числовые признаки, а категориальные закодируйте с помощью one-hot-encoding'а. \n",
        "\n",
        "2) С помощью кроссвалидации или разделения на train/valid выборку протестируйте разные значения гиперпараметра C и выберите лучший (можно тестировать С=100, 10, 1, 0.1, 0.01, 0.001) по метрике ROC-AUC. \n",
        "\n",
        "Если вы разделяете на train/valid, то используйте LogisticRegressionCV. Он сам при вызове .fit() подберет параметр С. (не забудьте передать scroing='roc_auc', чтобы при кроссвалидации сравнивались значения этой метрики, и refit=True, чтобы при потом модель обучилась на всем датасете с лучшим параметром C). \n",
        "\n",
        "\n",
        "(более сложный вариант) Если вы будете использовать кроссвалидацию, то преобразования данных и LogisticRegression нужно соединить в один Pipeline с помощью make_pipeline, как это делалось во втором семинаре. Потом pipeline надо передать в GridSearchCV. Для one-hot-encoding'a можно испльзовать комбинацию LabelEncoder + OneHotEncoder (сначала превращаем строчки в числа, а потом числа првращаем в one-hot вектора.)"
      ]
    },
    {
      "cell_type": "code",
      "metadata": {
        "id": "xHCLDmwqEEZL"
      },
      "source": [
        "from sklearn.linear_model import LogisticRegression, LogisticRegressionCV\n",
        "from sklearn.model_selection import train_test_split, GridSearchCV\n",
        "from sklearn.preprocessing import StandardScaler, RobustScaler, LabelEncoder, OneHotEncoder\n",
        "from sklearn.pipeline import make_pipeline\n",
        "from sklearn.compose import make_column_transformer"
      ],
      "execution_count": 114,
      "outputs": []
    },
    {
      "cell_type": "code",
      "source": [
        "# YOUR CODE\n",
        "transformer = make_column_transformer((RobustScaler(), num_cols), (OneHotEncoder(), cat_cols))"
      ],
      "metadata": {
        "id": "Rdzvbq42U8TE"
      },
      "execution_count": 115,
      "outputs": []
    },
    {
      "cell_type": "code",
      "source": [
        "X = data.drop(['Churn'], axis=1)\n",
        "y = data['Churn']"
      ],
      "metadata": {
        "id": "RNUj2tVGCFjh"
      },
      "execution_count": 116,
      "outputs": []
    },
    {
      "cell_type": "code",
      "metadata": {
        "id": "P2Yv3uYtEEZO"
      },
      "source": [
        "X_train, X_test, y_train, y_test = train_test_split(X, y, test_size=0.2, random_state=42, stratify=y)"
      ],
      "execution_count": 117,
      "outputs": []
    },
    {
      "cell_type": "code",
      "source": [
        "clf = make_pipeline(transformer, LogisticRegression())\n",
        "params = {'logisticregression__C':[100, 10, 1, 0.1, 0.01, 0.001], 'logisticregression__max_iter' : [100, 500, 1000]}\n",
        "\n",
        "gs_clf = GridSearchCV(clf, params, cv=5, n_jobs = -1, refit=True, scoring='roc_auc')\n",
        "gs_clf.fit(X_train, y_train).best_params_"
      ],
      "metadata": {
        "colab": {
          "base_uri": "https://localhost:8080/"
        },
        "id": "hBRwhKzJaV3V",
        "outputId": "d3dfe46f-b4ad-4f79-b09b-1d5bc2202cff"
      },
      "execution_count": 118,
      "outputs": [
        {
          "output_type": "execute_result",
          "data": {
            "text/plain": [
              "{'logisticregression__C': 100, 'logisticregression__max_iter': 100}"
            ]
          },
          "metadata": {},
          "execution_count": 118
        }
      ]
    },
    {
      "cell_type": "code",
      "source": [
        "best_clf = gs_clf.best_estimator_"
      ],
      "metadata": {
        "id": "0z_HuTMlC0u-"
      },
      "execution_count": 119,
      "outputs": []
    },
    {
      "cell_type": "code",
      "source": [
        "y_train_predicted = best_clf.predict_proba(X_train)[:, 1]\n",
        "y_test_predicted = best_clf.predict_proba(X_test)[:, 1]"
      ],
      "metadata": {
        "id": "GfKaIlzlDGIt"
      },
      "execution_count": 120,
      "outputs": []
    },
    {
      "cell_type": "code",
      "source": [
        "train_auc = roc_auc_score(y_train, y_train_predicted)\n",
        "test_auc = roc_auc_score(y_test, y_test_predicted)\n",
        "print(f'train AUC: {train_auc}')\n",
        "print(f'test AUC: {test_auc}')"
      ],
      "metadata": {
        "colab": {
          "base_uri": "https://localhost:8080/"
        },
        "id": "Ya70pYtQ9cpb",
        "outputId": "9d92dd63-bc97-40d7-d02f-84911107d382"
      },
      "execution_count": 121,
      "outputs": [
        {
          "output_type": "stream",
          "name": "stdout",
          "text": [
            "train AUC: 0.8469014313833538\n",
            "test AUC: 0.8550263815606777\n"
          ]
        }
      ]
    },
    {
      "cell_type": "code",
      "source": [
        "from sklearn.metrics import roc_curve\n",
        "\n",
        "plt.figure(figsize=(20,10))\n",
        "plt.plot(*roc_curve(y_train, y_train_predicted)[:2], label='train AUC={:.4f}'.format(train_auc))\n",
        "plt.plot(*roc_curve(y_test, y_test_predicted)[:2], label='test AUC={:.4f}'.format(test_auc))\n",
        "legend_box = plt.legend(fontsize='large', framealpha=1).get_frame()\n",
        "legend_box.set_facecolor(\"white\")\n",
        "legend_box.set_edgecolor(\"black\")\n",
        "plt.plot(np.linspace(0,1,100), np.linspace(0,1,100))\n",
        "plt.show()"
      ],
      "metadata": {
        "colab": {
          "base_uri": "https://localhost:8080/",
          "height": 592
        },
        "id": "nvdJGlWBmDd4",
        "outputId": "00e66e6d-c039-41a4-ba46-7d95f305db6a"
      },
      "execution_count": 122,
      "outputs": [
        {
          "output_type": "display_data",
          "data": {
            "text/plain": [
              "<Figure size 1440x720 with 1 Axes>"
            ],
            "image/png": "[encoded data removed]"
          },
          "metadata": {
            "needs_background": "light"
          }
        }
      ]
    },
    {
      "cell_type": "markdown",
      "metadata": {
        "id": "uVahy6JKEEZQ"
      },
      "source": [
        "Выпишите какое лучшее качество и с какими параметрами вам удалось получить"
      ]
    },
    {
      "cell_type": "markdown",
      "metadata": {
        "id": "36729TOQEEZR"
      },
      "source": [
        "лучшие параметры : {'logisticregression__C': 100, 'logisticregression__max_iter': 100}\n",
        "\n",
        "test AUC = 0.8550263815606777"
      ]
    },
    {
      "cell_type": "markdown",
      "metadata": {
        "id": "BlTeVy7fEEZR"
      },
      "source": [
        "## Применение градиентного бустинга (2 балла)\n",
        "\n",
        "Если вы хотите получить баллы за точный ответ, то стоит попробовать градиентный бустинг. Часто градиентный бустинг с параметрами по умолчанию даст вам 80% результата за 0% усилий.\n",
        "\n",
        "Мы будем использовать catboost, поэтому нам не надо кодировать категориальные признаки. Catboost сделает это сам (в .fit() надо передать cat_features=cat_cols). А численные признаки нормировать для моделей, основанных на деревьях не нужно.\n",
        "\n",
        "1) Разделите выборку на train/valid. Протестируйте catboost cо стандартными параметрами.\n",
        "\n",
        "2) Протестируйте разные занчения параметроа количества деревьев и learning_rate'а и выберите лучшую по метрике ROC-AUC комбинацию. \n",
        "\n",
        "(Дополнительно) Есть некоторые сложности с тем, чтобы использовать CatBoostClassifier вместе с GridSearchCV, поэтому мы не просим использовать кроссвалидацию. Но можете попробовать)"
      ]
    },
    {
      "cell_type": "code",
      "metadata": {
        "id": "Fioxxlp-EEZS",
        "colab": {
          "base_uri": "https://localhost:8080/"
        },
        "outputId": "921296e0-52f5-4952-fb16-a5632902aa9e"
      },
      "source": [
        "# YOUR CODE\n",
        "!pip install catboost"
      ],
      "execution_count": 123,
      "outputs": [
        {
          "output_type": "stream",
          "name": "stdout",
          "text": [
            "Looking in indexes: https://pypi.org/simple, https://us-python.pkg.dev/colab-wheels/public/simple/\n",
            "Requirement already satisfied: catboost in /usr/local/lib/python3.9/dist-packages (1.1.1)\n",
            "Requirement already satisfied: plotly in /usr/local/lib/python3.9/dist-packages (from catboost) (5.5.0)\n",
            "Requirement already satisfied: six in /usr/local/lib/python3.9/dist-packages (from catboost) (1.15.0)\n",
            "Requirement already satisfied: pandas>=0.24.0 in /usr/local/lib/python3.9/dist-packages (from catboost) (1.3.5)\n",
            "Requirement already satisfied: graphviz in /usr/local/lib/python3.9/dist-packages (from catboost) (0.10.1)\n",
            "Requirement already satisfied: matplotlib in /usr/local/lib/python3.9/dist-packages (from catboost) (3.5.3)\n",
            "Requirement already satisfied: scipy in /usr/local/lib/python3.9/dist-packages (from catboost) (1.10.1)\n",
            "Requirement already satisfied: numpy>=1.16.0 in /usr/local/lib/python3.9/dist-packages (from catboost) (1.22.4)\n",
            "Requirement already satisfied: pytz>=2017.3 in /usr/local/lib/python3.9/dist-packages (from pandas>=0.24.0->catboost) (2022.7.1)\n",
            "Requirement already satisfied: python-dateutil>=2.7.3 in /usr/local/lib/python3.9/dist-packages (from pandas>=0.24.0->catboost) (2.8.2)\n",
            "Requirement already satisfied: pillow>=6.2.0 in /usr/local/lib/python3.9/dist-packages (from matplotlib->catboost) (8.4.0)\n",
            "Requirement already satisfied: packaging>=20.0 in /usr/local/lib/python3.9/dist-packages (from matplotlib->catboost) (23.0)\n",
            "Requirement already satisfied: fonttools>=4.22.0 in /usr/local/lib/python3.9/dist-packages (from matplotlib->catboost) (4.39.0)\n",
            "Requirement already satisfied: cycler>=0.10 in /usr/local/lib/python3.9/dist-packages (from matplotlib->catboost) (0.11.0)\n",
            "Requirement already satisfied: kiwisolver>=1.0.1 in /usr/local/lib/python3.9/dist-packages (from matplotlib->catboost) (1.4.4)\n",
            "Requirement already satisfied: pyparsing>=2.2.1 in /usr/local/lib/python3.9/dist-packages (from matplotlib->catboost) (3.0.9)\n",
            "Requirement already satisfied: tenacity>=6.2.0 in /usr/local/lib/python3.9/dist-packages (from plotly->catboost) (8.2.2)\n"
          ]
        }
      ]
    },
    {
      "cell_type": "code",
      "source": [
        "import catboost"
      ],
      "metadata": {
        "id": "O5sCQZ1zSjly"
      },
      "execution_count": 124,
      "outputs": []
    },
    {
      "cell_type": "code",
      "source": [
        "X = data.drop(['Churn'], axis=1)\n",
        "y = data['Churn']"
      ],
      "metadata": {
        "id": "u2kYinmGcaeI"
      },
      "execution_count": 152,
      "outputs": []
    },
    {
      "cell_type": "code",
      "source": [
        "X_train, X_test, y_train, y_test = train_test_split(X, y, test_size=0.2, random_state=42, stratify=y)"
      ],
      "metadata": {
        "id": "ea4Qv45sSljw"
      },
      "execution_count": 153,
      "outputs": []
    },
    {
      "cell_type": "code",
      "source": [
        "catboost_clf = catboost.CatBoostClassifier(cat_features=cat_cols, iterations=150, loss_function='Logloss')\n",
        "params = {'learning_rate': [0.03, 0.1],\n",
        "          'depth': [4, 6, 10],\n",
        "          'l2_leaf_reg': [1, 3, 5]}\n",
        "search = GridSearchCV(catboost_clf, params, cv = 5, n_jobs=-1, scoring='roc_auc')\n",
        "best = search.fit(X_train, y_train).best_estimator_"
      ],
      "metadata": {
        "id": "Jy2MRAhTrg3o",
        "colab": {
          "base_uri": "https://localhost:8080/"
        },
        "outputId": "36e16903-119a-4375-f7fc-d04f6043699d"
      },
      "execution_count": 127,
      "outputs": [
        {
          "output_type": "stream",
          "name": "stdout",
          "text": [
            "0:\tlearn: 0.6593272\ttotal: 4.06ms\tremaining: 606ms\n",
            "1:\tlearn: 0.6284622\ttotal: 8.22ms\tremaining: 608ms\n",
            "2:\tlearn: 0.6034931\ttotal: 12.2ms\tremaining: 596ms\n",
            "3:\tlearn: 0.5822311\ttotal: 15.5ms\tremaining: 565ms\n",
            "4:\tlearn: 0.5648035\ttotal: 18.6ms\tremaining: 540ms\n",
            "5:\tlearn: 0.5491625\ttotal: 22ms\tremaining: 527ms\n",
            "6:\tlearn: 0.5352051\ttotal: 25ms\tremaining: 510ms\n",
            "7:\tlearn: 0.5218405\ttotal: 28.8ms\tremaining: 511ms\n",
            "8:\tlearn: 0.5107285\ttotal: 31.9ms\tremaining: 499ms\n",
            "9:\tlearn: 0.4993440\ttotal: 35ms\tremaining: 490ms\n",
            "10:\tlearn: 0.4904581\ttotal: 38.3ms\tremaining: 484ms\n",
            "11:\tlearn: 0.4825616\ttotal: 41.4ms\tremaining: 476ms\n",
            "12:\tlearn: 0.4748035\ttotal: 44.6ms\tremaining: 470ms\n",
            "13:\tlearn: 0.4696253\ttotal: 47.8ms\tremaining: 464ms\n",
            "14:\tlearn: 0.4636291\ttotal: 51ms\tremaining: 459ms\n",
            "15:\tlearn: 0.4585780\ttotal: 54.1ms\tremaining: 453ms\n",
            "16:\tlearn: 0.4543745\ttotal: 57.2ms\tremaining: 447ms\n",
            "17:\tlearn: 0.4496284\ttotal: 60.7ms\tremaining: 445ms\n",
            "18:\tlearn: 0.4460601\ttotal: 63.8ms\tremaining: 440ms\n",
            "19:\tlearn: 0.4426308\ttotal: 67ms\tremaining: 436ms\n",
            "20:\tlearn: 0.4393117\ttotal: 70.3ms\tremaining: 432ms\n",
            "21:\tlearn: 0.4379227\ttotal: 72ms\tremaining: 419ms\n",
            "22:\tlearn: 0.4350297\ttotal: 75.1ms\tremaining: 415ms\n",
            "23:\tlearn: 0.4319690\ttotal: 78.3ms\tremaining: 411ms\n",
            "24:\tlearn: 0.4298020\ttotal: 81.4ms\tremaining: 407ms\n",
            "25:\tlearn: 0.4279203\ttotal: 84.7ms\tremaining: 404ms\n",
            "26:\tlearn: 0.4255668\ttotal: 87.9ms\tremaining: 401ms\n",
            "27:\tlearn: 0.4242067\ttotal: 91ms\tremaining: 397ms\n",
            "28:\tlearn: 0.4224259\ttotal: 94.1ms\tremaining: 393ms\n",
            "29:\tlearn: 0.4210577\ttotal: 97.2ms\tremaining: 389ms\n",
            "30:\tlearn: 0.4199731\ttotal: 100ms\tremaining: 385ms\n",
            "31:\tlearn: 0.4185696\ttotal: 103ms\tremaining: 381ms\n",
            "32:\tlearn: 0.4177744\ttotal: 106ms\tremaining: 377ms\n",
            "33:\tlearn: 0.4169332\ttotal: 110ms\tremaining: 374ms\n",
            "34:\tlearn: 0.4163104\ttotal: 113ms\tremaining: 370ms\n",
            "35:\tlearn: 0.4152570\ttotal: 116ms\tremaining: 367ms\n",
            "36:\tlearn: 0.4145012\ttotal: 119ms\tremaining: 363ms\n",
            "37:\tlearn: 0.4137594\ttotal: 122ms\tremaining: 360ms\n",
            "38:\tlearn: 0.4128071\ttotal: 125ms\tremaining: 357ms\n",
            "39:\tlearn: 0.4121713\ttotal: 128ms\tremaining: 353ms\n",
            "40:\tlearn: 0.4115425\ttotal: 132ms\tremaining: 350ms\n",
            "41:\tlearn: 0.4109650\ttotal: 135ms\tremaining: 347ms\n",
            "42:\tlearn: 0.4107086\ttotal: 137ms\tremaining: 342ms\n",
            "43:\tlearn: 0.4101622\ttotal: 141ms\tremaining: 338ms\n",
            "44:\tlearn: 0.4098038\ttotal: 144ms\tremaining: 335ms\n",
            "45:\tlearn: 0.4092127\ttotal: 147ms\tremaining: 332ms\n",
            "46:\tlearn: 0.4087799\ttotal: 150ms\tremaining: 329ms\n",
            "47:\tlearn: 0.4086614\ttotal: 153ms\tremaining: 325ms\n",
            "48:\tlearn: 0.4086485\ttotal: 155ms\tremaining: 319ms\n",
            "49:\tlearn: 0.4080607\ttotal: 158ms\tremaining: 316ms\n",
            "50:\tlearn: 0.4074983\ttotal: 161ms\tremaining: 313ms\n",
            "51:\tlearn: 0.4069773\ttotal: 164ms\tremaining: 309ms\n",
            "52:\tlearn: 0.4067278\ttotal: 167ms\tremaining: 306ms\n",
            "53:\tlearn: 0.4067069\ttotal: 170ms\tremaining: 303ms\n",
            "54:\tlearn: 0.4062201\ttotal: 173ms\tremaining: 300ms\n",
            "55:\tlearn: 0.4058981\ttotal: 176ms\tremaining: 295ms\n",
            "56:\tlearn: 0.4055029\ttotal: 179ms\tremaining: 292ms\n",
            "57:\tlearn: 0.4054121\ttotal: 182ms\tremaining: 289ms\n",
            "58:\tlearn: 0.4053225\ttotal: 185ms\tremaining: 286ms\n",
            "59:\tlearn: 0.4051340\ttotal: 189ms\tremaining: 283ms\n",
            "60:\tlearn: 0.4049070\ttotal: 191ms\tremaining: 279ms\n",
            "61:\tlearn: 0.4048012\ttotal: 194ms\tremaining: 275ms\n",
            "62:\tlearn: 0.4047414\ttotal: 203ms\tremaining: 280ms\n",
            "63:\tlearn: 0.4044949\ttotal: 206ms\tremaining: 277ms\n",
            "64:\tlearn: 0.4043416\ttotal: 209ms\tremaining: 273ms\n",
            "65:\tlearn: 0.4038270\ttotal: 212ms\tremaining: 270ms\n",
            "66:\tlearn: 0.4037586\ttotal: 215ms\tremaining: 267ms\n",
            "67:\tlearn: 0.4036135\ttotal: 218ms\tremaining: 263ms\n",
            "68:\tlearn: 0.4034124\ttotal: 221ms\tremaining: 260ms\n",
            "69:\tlearn: 0.4030324\ttotal: 224ms\tremaining: 257ms\n",
            "70:\tlearn: 0.4030139\ttotal: 227ms\tremaining: 253ms\n",
            "71:\tlearn: 0.4030138\ttotal: 229ms\tremaining: 248ms\n",
            "72:\tlearn: 0.4028044\ttotal: 232ms\tremaining: 245ms\n",
            "73:\tlearn: 0.4024519\ttotal: 236ms\tremaining: 242ms\n",
            "74:\tlearn: 0.4021831\ttotal: 239ms\tremaining: 239ms\n",
            "75:\tlearn: 0.4021776\ttotal: 241ms\tremaining: 235ms\n",
            "76:\tlearn: 0.4019586\ttotal: 245ms\tremaining: 232ms\n",
            "77:\tlearn: 0.4017536\ttotal: 248ms\tremaining: 229ms\n",
            "78:\tlearn: 0.4015867\ttotal: 251ms\tremaining: 225ms\n",
            "79:\tlearn: 0.4014035\ttotal: 254ms\tremaining: 222ms\n",
            "80:\tlearn: 0.4011478\ttotal: 257ms\tremaining: 219ms\n",
            "81:\tlearn: 0.4008955\ttotal: 260ms\tremaining: 216ms\n",
            "82:\tlearn: 0.4007604\ttotal: 263ms\tremaining: 212ms\n",
            "83:\tlearn: 0.4006898\ttotal: 266ms\tremaining: 209ms\n",
            "84:\tlearn: 0.4005402\ttotal: 269ms\tremaining: 206ms\n",
            "85:\tlearn: 0.4003542\ttotal: 273ms\tremaining: 203ms\n",
            "86:\tlearn: 0.4001677\ttotal: 276ms\tremaining: 200ms\n",
            "87:\tlearn: 0.4000672\ttotal: 279ms\tremaining: 197ms\n",
            "88:\tlearn: 0.4000262\ttotal: 282ms\tremaining: 193ms\n",
            "89:\tlearn: 0.3998629\ttotal: 285ms\tremaining: 190ms\n",
            "90:\tlearn: 0.3995781\ttotal: 288ms\tremaining: 187ms\n",
            "91:\tlearn: 0.3995340\ttotal: 292ms\tremaining: 184ms\n",
            "92:\tlearn: 0.3995041\ttotal: 295ms\tremaining: 181ms\n",
            "93:\tlearn: 0.3994668\ttotal: 298ms\tremaining: 177ms\n",
            "94:\tlearn: 0.3994507\ttotal: 301ms\tremaining: 174ms\n",
            "95:\tlearn: 0.3994106\ttotal: 304ms\tremaining: 171ms\n",
            "96:\tlearn: 0.3992584\ttotal: 307ms\tremaining: 168ms\n",
            "97:\tlearn: 0.3992353\ttotal: 310ms\tremaining: 164ms\n",
            "98:\tlearn: 0.3989902\ttotal: 313ms\tremaining: 161ms\n",
            "99:\tlearn: 0.3987978\ttotal: 316ms\tremaining: 158ms\n",
            "100:\tlearn: 0.3987213\ttotal: 319ms\tremaining: 155ms\n",
            "101:\tlearn: 0.3985127\ttotal: 322ms\tremaining: 152ms\n",
            "102:\tlearn: 0.3984026\ttotal: 325ms\tremaining: 149ms\n",
            "103:\tlearn: 0.3983183\ttotal: 329ms\tremaining: 145ms\n",
            "104:\tlearn: 0.3982100\ttotal: 332ms\tremaining: 142ms\n",
            "105:\tlearn: 0.3981370\ttotal: 335ms\tremaining: 139ms\n",
            "106:\tlearn: 0.3981190\ttotal: 338ms\tremaining: 136ms\n",
            "107:\tlearn: 0.3978774\ttotal: 341ms\tremaining: 133ms\n",
            "108:\tlearn: 0.3975681\ttotal: 344ms\tremaining: 130ms\n",
            "109:\tlearn: 0.3974306\ttotal: 348ms\tremaining: 127ms\n",
            "110:\tlearn: 0.3967221\ttotal: 351ms\tremaining: 123ms\n",
            "111:\tlearn: 0.3965613\ttotal: 356ms\tremaining: 121ms\n",
            "112:\tlearn: 0.3962395\ttotal: 360ms\tremaining: 118ms\n",
            "113:\tlearn: 0.3958566\ttotal: 363ms\tremaining: 115ms\n",
            "114:\tlearn: 0.3958103\ttotal: 366ms\tremaining: 111ms\n",
            "115:\tlearn: 0.3957868\ttotal: 371ms\tremaining: 109ms\n",
            "116:\tlearn: 0.3955627\ttotal: 374ms\tremaining: 106ms\n",
            "117:\tlearn: 0.3952388\ttotal: 377ms\tremaining: 102ms\n",
            "118:\tlearn: 0.3952176\ttotal: 380ms\tremaining: 99ms\n",
            "119:\tlearn: 0.3951298\ttotal: 383ms\tremaining: 95.8ms\n",
            "120:\tlearn: 0.3950873\ttotal: 386ms\tremaining: 92.6ms\n",
            "121:\tlearn: 0.3948355\ttotal: 390ms\tremaining: 89.4ms\n",
            "122:\tlearn: 0.3945065\ttotal: 393ms\tremaining: 86.2ms\n",
            "123:\tlearn: 0.3939298\ttotal: 402ms\tremaining: 84.4ms\n",
            "124:\tlearn: 0.3939285\ttotal: 406ms\tremaining: 81.2ms\n",
            "125:\tlearn: 0.3937049\ttotal: 409ms\tremaining: 78ms\n",
            "126:\tlearn: 0.3937037\ttotal: 413ms\tremaining: 74.9ms\n",
            "127:\tlearn: 0.3936000\ttotal: 416ms\tremaining: 71.6ms\n",
            "128:\tlearn: 0.3935640\ttotal: 420ms\tremaining: 68.4ms\n",
            "129:\tlearn: 0.3935598\ttotal: 423ms\tremaining: 65.1ms\n",
            "130:\tlearn: 0.3935387\ttotal: 426ms\tremaining: 61.8ms\n",
            "131:\tlearn: 0.3935367\ttotal: 430ms\tremaining: 58.6ms\n",
            "132:\tlearn: 0.3935357\ttotal: 433ms\tremaining: 55.3ms\n",
            "133:\tlearn: 0.3934464\ttotal: 436ms\tremaining: 52.1ms\n",
            "134:\tlearn: 0.3932209\ttotal: 439ms\tremaining: 48.8ms\n",
            "135:\tlearn: 0.3932144\ttotal: 442ms\tremaining: 45.5ms\n",
            "136:\tlearn: 0.3930028\ttotal: 445ms\tremaining: 42.2ms\n",
            "137:\tlearn: 0.3929704\ttotal: 448ms\tremaining: 39ms\n",
            "138:\tlearn: 0.3928964\ttotal: 451ms\tremaining: 35.7ms\n",
            "139:\tlearn: 0.3927685\ttotal: 455ms\tremaining: 32.5ms\n",
            "140:\tlearn: 0.3925871\ttotal: 458ms\tremaining: 29.2ms\n",
            "141:\tlearn: 0.3925861\ttotal: 461ms\tremaining: 26ms\n",
            "142:\tlearn: 0.3924168\ttotal: 464ms\tremaining: 22.7ms\n",
            "143:\tlearn: 0.3923526\ttotal: 467ms\tremaining: 19.5ms\n",
            "144:\tlearn: 0.3923374\ttotal: 471ms\tremaining: 16.2ms\n",
            "145:\tlearn: 0.3922195\ttotal: 474ms\tremaining: 13ms\n",
            "146:\tlearn: 0.3921360\ttotal: 477ms\tremaining: 9.73ms\n",
            "147:\tlearn: 0.3921341\ttotal: 480ms\tremaining: 6.48ms\n",
            "148:\tlearn: 0.3921153\ttotal: 483ms\tremaining: 3.24ms\n",
            "149:\tlearn: 0.3921144\ttotal: 486ms\tremaining: 0us\n"
          ]
        }
      ]
    },
    {
      "cell_type": "code",
      "source": [
        "search.best_params_"
      ],
      "metadata": {
        "colab": {
          "base_uri": "https://localhost:8080/"
        },
        "id": "B1exN7Y-v0Mr",
        "outputId": "a09222c7-3239-468b-9506-82430194b274"
      },
      "execution_count": 128,
      "outputs": [
        {
          "output_type": "execute_result",
          "data": {
            "text/plain": [
              "{'depth': 4, 'l2_leaf_reg': 1, 'learning_rate': 0.1}"
            ]
          },
          "metadata": {},
          "execution_count": 128
        }
      ]
    },
    {
      "cell_type": "code",
      "source": [
        "y_train_predicted = best.predict_proba(X_train)[:, 1]\n",
        "y_test_predicted = best.predict_proba(X_test)[:, 1]\n",
        "\n",
        "train_auc = roc_auc_score(y_train, y_train_predicted)\n",
        "test_auc = roc_auc_score(y_test, y_test_predicted)\n",
        "print(train_auc, test_auc, sep='\\n')"
      ],
      "metadata": {
        "colab": {
          "base_uri": "https://localhost:8080/"
        },
        "id": "nE4zJlbnvqz2",
        "outputId": "25b1df02-c8d8-4546-8a76-74f49bf258fc"
      },
      "execution_count": 129,
      "outputs": [
        {
          "output_type": "stream",
          "name": "stdout",
          "text": [
            "0.8604140483354802\n",
            "0.857615940016662\n"
          ]
        }
      ]
    },
    {
      "cell_type": "markdown",
      "source": [
        "Дальше вручную подобрала число итераций, так как GridSearchCV слишком долго перебирал все параметры"
      ],
      "metadata": {
        "id": "xNhFBbpE0piy"
      }
    },
    {
      "cell_type": "code",
      "source": [
        "boosting_model = catboost.CatBoostClassifier(iterations=400, learning_rate=0.03, depth=4, l2_leaf_reg=3, loss_function='Logloss', cat_features=cat_cols)\n",
        "\n",
        "boosting_model.fit(X_train, y_train)"
      ],
      "metadata": {
        "id": "9PXK5QLQTem-",
        "colab": {
          "base_uri": "https://localhost:8080/"
        },
        "outputId": "444d3b74-dd51-4205-d1d5-f20062642022"
      },
      "execution_count": 154,
      "outputs": [
        {
          "output_type": "stream",
          "name": "stdout",
          "text": [
            "0:\tlearn: 0.6780804\ttotal: 10.5ms\tremaining: 4.19s\n",
            "1:\tlearn: 0.6620930\ttotal: 20.6ms\tremaining: 4.1s\n",
            "2:\tlearn: 0.6483549\ttotal: 30.2ms\tremaining: 3.99s\n",
            "3:\tlearn: 0.6353034\ttotal: 39ms\tremaining: 3.86s\n",
            "4:\tlearn: 0.6221542\ttotal: 48.8ms\tremaining: 3.86s\n",
            "5:\tlearn: 0.6086625\ttotal: 57.8ms\tremaining: 3.8s\n",
            "6:\tlearn: 0.5968201\ttotal: 67ms\tremaining: 3.76s\n",
            "7:\tlearn: 0.5858303\ttotal: 75.6ms\tremaining: 3.71s\n",
            "8:\tlearn: 0.5745730\ttotal: 84.7ms\tremaining: 3.68s\n",
            "9:\tlearn: 0.5641266\ttotal: 93.8ms\tremaining: 3.66s\n",
            "10:\tlearn: 0.5552764\ttotal: 103ms\tremaining: 3.63s\n",
            "11:\tlearn: 0.5483783\ttotal: 111ms\tremaining: 3.58s\n",
            "12:\tlearn: 0.5405388\ttotal: 118ms\tremaining: 3.52s\n",
            "13:\tlearn: 0.5336121\ttotal: 126ms\tremaining: 3.48s\n",
            "14:\tlearn: 0.5263549\ttotal: 134ms\tremaining: 3.45s\n",
            "15:\tlearn: 0.5197520\ttotal: 143ms\tremaining: 3.43s\n",
            "16:\tlearn: 0.5152765\ttotal: 151ms\tremaining: 3.4s\n",
            "17:\tlearn: 0.5103158\ttotal: 160ms\tremaining: 3.4s\n",
            "18:\tlearn: 0.5048883\ttotal: 169ms\tremaining: 3.38s\n",
            "19:\tlearn: 0.4998866\ttotal: 178ms\tremaining: 3.38s\n",
            "20:\tlearn: 0.4957669\ttotal: 184ms\tremaining: 3.33s\n",
            "21:\tlearn: 0.4910142\ttotal: 192ms\tremaining: 3.3s\n",
            "22:\tlearn: 0.4871126\ttotal: 202ms\tremaining: 3.31s\n",
            "23:\tlearn: 0.4833216\ttotal: 215ms\tremaining: 3.37s\n",
            "24:\tlearn: 0.4796495\ttotal: 225ms\tremaining: 3.38s\n",
            "25:\tlearn: 0.4765557\ttotal: 232ms\tremaining: 3.34s\n",
            "26:\tlearn: 0.4736108\ttotal: 240ms\tremaining: 3.32s\n",
            "27:\tlearn: 0.4711555\ttotal: 249ms\tremaining: 3.3s\n",
            "28:\tlearn: 0.4688293\ttotal: 255ms\tremaining: 3.26s\n",
            "29:\tlearn: 0.4657263\ttotal: 263ms\tremaining: 3.24s\n",
            "30:\tlearn: 0.4632650\ttotal: 271ms\tremaining: 3.23s\n",
            "31:\tlearn: 0.4606707\ttotal: 280ms\tremaining: 3.22s\n",
            "32:\tlearn: 0.4589420\ttotal: 286ms\tremaining: 3.18s\n",
            "33:\tlearn: 0.4567644\ttotal: 294ms\tremaining: 3.16s\n",
            "34:\tlearn: 0.4548979\ttotal: 302ms\tremaining: 3.15s\n",
            "35:\tlearn: 0.4526907\ttotal: 310ms\tremaining: 3.14s\n",
            "36:\tlearn: 0.4508084\ttotal: 319ms\tremaining: 3.13s\n",
            "37:\tlearn: 0.4491606\ttotal: 328ms\tremaining: 3.13s\n",
            "38:\tlearn: 0.4473817\ttotal: 337ms\tremaining: 3.12s\n",
            "39:\tlearn: 0.4455416\ttotal: 346ms\tremaining: 3.12s\n",
            "40:\tlearn: 0.4440649\ttotal: 358ms\tremaining: 3.13s\n",
            "41:\tlearn: 0.4425355\ttotal: 367ms\tremaining: 3.13s\n",
            "42:\tlearn: 0.4412301\ttotal: 377ms\tremaining: 3.13s\n",
            "43:\tlearn: 0.4398612\ttotal: 386ms\tremaining: 3.12s\n",
            "44:\tlearn: 0.4382463\ttotal: 396ms\tremaining: 3.12s\n",
            "45:\tlearn: 0.4371604\ttotal: 404ms\tremaining: 3.11s\n",
            "46:\tlearn: 0.4362573\ttotal: 423ms\tremaining: 3.18s\n",
            "47:\tlearn: 0.4353658\ttotal: 438ms\tremaining: 3.21s\n",
            "48:\tlearn: 0.4344361\ttotal: 448ms\tremaining: 3.21s\n",
            "49:\tlearn: 0.4336000\ttotal: 457ms\tremaining: 3.19s\n",
            "50:\tlearn: 0.4323811\ttotal: 465ms\tremaining: 3.18s\n",
            "51:\tlearn: 0.4309275\ttotal: 474ms\tremaining: 3.17s\n",
            "52:\tlearn: 0.4300134\ttotal: 484ms\tremaining: 3.17s\n",
            "53:\tlearn: 0.4293118\ttotal: 497ms\tremaining: 3.18s\n",
            "54:\tlearn: 0.4287602\ttotal: 503ms\tremaining: 3.15s\n",
            "55:\tlearn: 0.4278424\ttotal: 512ms\tremaining: 3.14s\n",
            "56:\tlearn: 0.4271061\ttotal: 521ms\tremaining: 3.13s\n",
            "57:\tlearn: 0.4265494\ttotal: 530ms\tremaining: 3.12s\n",
            "58:\tlearn: 0.4257250\ttotal: 538ms\tremaining: 3.11s\n",
            "59:\tlearn: 0.4251071\ttotal: 549ms\tremaining: 3.11s\n",
            "60:\tlearn: 0.4240657\ttotal: 559ms\tremaining: 3.1s\n",
            "61:\tlearn: 0.4235692\ttotal: 567ms\tremaining: 3.09s\n",
            "62:\tlearn: 0.4228917\ttotal: 576ms\tremaining: 3.08s\n",
            "63:\tlearn: 0.4224492\ttotal: 584ms\tremaining: 3.06s\n",
            "64:\tlearn: 0.4220687\ttotal: 596ms\tremaining: 3.07s\n",
            "65:\tlearn: 0.4213177\ttotal: 621ms\tremaining: 3.14s\n",
            "66:\tlearn: 0.4205650\ttotal: 639ms\tremaining: 3.17s\n",
            "67:\tlearn: 0.4202906\ttotal: 652ms\tremaining: 3.18s\n",
            "68:\tlearn: 0.4195042\ttotal: 671ms\tremaining: 3.22s\n",
            "69:\tlearn: 0.4192441\ttotal: 691ms\tremaining: 3.26s\n",
            "70:\tlearn: 0.4186115\ttotal: 714ms\tremaining: 3.31s\n",
            "71:\tlearn: 0.4181390\ttotal: 741ms\tremaining: 3.38s\n",
            "72:\tlearn: 0.4178272\ttotal: 759ms\tremaining: 3.4s\n",
            "73:\tlearn: 0.4172056\ttotal: 779ms\tremaining: 3.43s\n",
            "74:\tlearn: 0.4168743\ttotal: 801ms\tremaining: 3.47s\n",
            "75:\tlearn: 0.4167680\ttotal: 812ms\tremaining: 3.46s\n",
            "76:\tlearn: 0.4164914\ttotal: 835ms\tremaining: 3.5s\n",
            "77:\tlearn: 0.4161908\ttotal: 850ms\tremaining: 3.51s\n",
            "78:\tlearn: 0.4156903\ttotal: 867ms\tremaining: 3.52s\n",
            "79:\tlearn: 0.4155731\ttotal: 881ms\tremaining: 3.52s\n",
            "80:\tlearn: 0.4151125\ttotal: 901ms\tremaining: 3.55s\n",
            "81:\tlearn: 0.4149289\ttotal: 923ms\tremaining: 3.58s\n",
            "82:\tlearn: 0.4146218\ttotal: 941ms\tremaining: 3.6s\n",
            "83:\tlearn: 0.4142601\ttotal: 962ms\tremaining: 3.62s\n",
            "84:\tlearn: 0.4139825\ttotal: 979ms\tremaining: 3.63s\n",
            "85:\tlearn: 0.4136803\ttotal: 1s\tremaining: 3.65s\n",
            "86:\tlearn: 0.4134021\ttotal: 1.02s\tremaining: 3.69s\n",
            "87:\tlearn: 0.4130142\ttotal: 1.04s\tremaining: 3.71s\n",
            "88:\tlearn: 0.4125285\ttotal: 1.07s\tremaining: 3.73s\n",
            "89:\tlearn: 0.4120964\ttotal: 1.09s\tremaining: 3.75s\n",
            "90:\tlearn: 0.4119059\ttotal: 1.11s\tremaining: 3.77s\n",
            "91:\tlearn: 0.4117563\ttotal: 1.13s\tremaining: 3.78s\n",
            "92:\tlearn: 0.4114357\ttotal: 1.15s\tremaining: 3.79s\n",
            "93:\tlearn: 0.4112322\ttotal: 1.17s\tremaining: 3.81s\n",
            "94:\tlearn: 0.4110384\ttotal: 1.19s\tremaining: 3.82s\n",
            "95:\tlearn: 0.4109411\ttotal: 1.2s\tremaining: 3.81s\n",
            "96:\tlearn: 0.4107404\ttotal: 1.23s\tremaining: 3.85s\n",
            "97:\tlearn: 0.4105873\ttotal: 1.25s\tremaining: 3.87s\n",
            "98:\tlearn: 0.4105003\ttotal: 1.27s\tremaining: 3.88s\n",
            "99:\tlearn: 0.4103392\ttotal: 1.3s\tremaining: 3.89s\n",
            "100:\tlearn: 0.4101065\ttotal: 1.32s\tremaining: 3.9s\n",
            "101:\tlearn: 0.4100020\ttotal: 1.34s\tremaining: 3.92s\n",
            "102:\tlearn: 0.4097887\ttotal: 1.36s\tremaining: 3.92s\n",
            "103:\tlearn: 0.4096957\ttotal: 1.38s\tremaining: 3.93s\n",
            "104:\tlearn: 0.4093593\ttotal: 1.41s\tremaining: 3.95s\n",
            "105:\tlearn: 0.4091331\ttotal: 1.43s\tremaining: 3.96s\n",
            "106:\tlearn: 0.4089484\ttotal: 1.45s\tremaining: 3.96s\n",
            "107:\tlearn: 0.4087676\ttotal: 1.46s\tremaining: 3.96s\n",
            "108:\tlearn: 0.4084885\ttotal: 1.49s\tremaining: 3.97s\n",
            "109:\tlearn: 0.4083013\ttotal: 1.51s\tremaining: 3.97s\n",
            "110:\tlearn: 0.4082274\ttotal: 1.52s\tremaining: 3.96s\n",
            "111:\tlearn: 0.4080601\ttotal: 1.54s\tremaining: 3.97s\n",
            "112:\tlearn: 0.4080169\ttotal: 1.56s\tremaining: 3.96s\n",
            "113:\tlearn: 0.4078645\ttotal: 1.58s\tremaining: 3.96s\n",
            "114:\tlearn: 0.4077071\ttotal: 1.6s\tremaining: 3.97s\n",
            "115:\tlearn: 0.4076352\ttotal: 1.62s\tremaining: 3.96s\n",
            "116:\tlearn: 0.4074642\ttotal: 1.64s\tremaining: 3.96s\n",
            "117:\tlearn: 0.4073147\ttotal: 1.66s\tremaining: 3.97s\n",
            "118:\tlearn: 0.4071030\ttotal: 1.68s\tremaining: 3.97s\n",
            "119:\tlearn: 0.4068887\ttotal: 1.7s\tremaining: 3.96s\n",
            "120:\tlearn: 0.4067089\ttotal: 1.72s\tremaining: 3.96s\n",
            "121:\tlearn: 0.4065165\ttotal: 1.74s\tremaining: 3.97s\n",
            "122:\tlearn: 0.4063406\ttotal: 1.76s\tremaining: 3.98s\n",
            "123:\tlearn: 0.4062663\ttotal: 1.78s\tremaining: 3.97s\n",
            "124:\tlearn: 0.4061549\ttotal: 1.8s\tremaining: 3.96s\n",
            "125:\tlearn: 0.4060103\ttotal: 1.82s\tremaining: 3.95s\n",
            "126:\tlearn: 0.4059523\ttotal: 1.83s\tremaining: 3.94s\n",
            "127:\tlearn: 0.4058789\ttotal: 1.85s\tremaining: 3.94s\n",
            "128:\tlearn: 0.4057637\ttotal: 1.88s\tremaining: 3.94s\n",
            "129:\tlearn: 0.4055310\ttotal: 1.9s\tremaining: 3.94s\n",
            "130:\tlearn: 0.4053597\ttotal: 1.92s\tremaining: 3.93s\n",
            "131:\tlearn: 0.4051507\ttotal: 1.94s\tremaining: 3.93s\n",
            "132:\tlearn: 0.4050262\ttotal: 1.95s\tremaining: 3.92s\n",
            "133:\tlearn: 0.4049260\ttotal: 1.98s\tremaining: 3.92s\n",
            "134:\tlearn: 0.4047618\ttotal: 2s\tremaining: 3.92s\n",
            "135:\tlearn: 0.4046052\ttotal: 2.02s\tremaining: 3.91s\n",
            "136:\tlearn: 0.4045164\ttotal: 2.04s\tremaining: 3.91s\n",
            "137:\tlearn: 0.4044081\ttotal: 2.05s\tremaining: 3.9s\n",
            "138:\tlearn: 0.4043374\ttotal: 2.07s\tremaining: 3.9s\n",
            "139:\tlearn: 0.4041956\ttotal: 2.1s\tremaining: 3.9s\n",
            "140:\tlearn: 0.4041029\ttotal: 2.11s\tremaining: 3.87s\n",
            "141:\tlearn: 0.4040473\ttotal: 2.13s\tremaining: 3.86s\n",
            "142:\tlearn: 0.4040191\ttotal: 2.14s\tremaining: 3.85s\n",
            "143:\tlearn: 0.4039647\ttotal: 2.16s\tremaining: 3.84s\n",
            "144:\tlearn: 0.4037361\ttotal: 2.18s\tremaining: 3.83s\n",
            "145:\tlearn: 0.4035255\ttotal: 2.2s\tremaining: 3.83s\n",
            "146:\tlearn: 0.4033553\ttotal: 2.22s\tremaining: 3.82s\n",
            "147:\tlearn: 0.4033553\ttotal: 2.23s\tremaining: 3.8s\n",
            "148:\tlearn: 0.4032443\ttotal: 2.25s\tremaining: 3.8s\n",
            "149:\tlearn: 0.4030502\ttotal: 2.28s\tremaining: 3.8s\n",
            "150:\tlearn: 0.4030067\ttotal: 2.3s\tremaining: 3.79s\n",
            "151:\tlearn: 0.4029962\ttotal: 2.32s\tremaining: 3.79s\n",
            "152:\tlearn: 0.4028055\ttotal: 2.34s\tremaining: 3.78s\n",
            "153:\tlearn: 0.4027398\ttotal: 2.36s\tremaining: 3.78s\n",
            "154:\tlearn: 0.4027085\ttotal: 2.38s\tremaining: 3.76s\n",
            "155:\tlearn: 0.4026047\ttotal: 2.4s\tremaining: 3.75s\n",
            "156:\tlearn: 0.4025469\ttotal: 2.42s\tremaining: 3.74s\n",
            "157:\tlearn: 0.4023888\ttotal: 2.44s\tremaining: 3.73s\n",
            "158:\tlearn: 0.4023714\ttotal: 2.46s\tremaining: 3.73s\n",
            "159:\tlearn: 0.4023325\ttotal: 2.48s\tremaining: 3.72s\n",
            "160:\tlearn: 0.4022328\ttotal: 2.5s\tremaining: 3.71s\n",
            "161:\tlearn: 0.4022018\ttotal: 2.52s\tremaining: 3.71s\n",
            "162:\tlearn: 0.4020953\ttotal: 2.54s\tremaining: 3.69s\n",
            "163:\tlearn: 0.4019630\ttotal: 2.56s\tremaining: 3.68s\n",
            "164:\tlearn: 0.4019246\ttotal: 2.58s\tremaining: 3.67s\n",
            "165:\tlearn: 0.4017660\ttotal: 2.6s\tremaining: 3.66s\n",
            "166:\tlearn: 0.4016687\ttotal: 2.62s\tremaining: 3.65s\n",
            "167:\tlearn: 0.4015581\ttotal: 2.64s\tremaining: 3.65s\n",
            "168:\tlearn: 0.4015133\ttotal: 2.66s\tremaining: 3.64s\n",
            "169:\tlearn: 0.4014716\ttotal: 2.69s\tremaining: 3.63s\n",
            "170:\tlearn: 0.4014598\ttotal: 2.71s\tremaining: 3.63s\n",
            "171:\tlearn: 0.4013028\ttotal: 2.73s\tremaining: 3.62s\n",
            "172:\tlearn: 0.4012391\ttotal: 2.75s\tremaining: 3.61s\n",
            "173:\tlearn: 0.4012049\ttotal: 2.77s\tremaining: 3.6s\n",
            "174:\tlearn: 0.4011060\ttotal: 2.79s\tremaining: 3.58s\n",
            "175:\tlearn: 0.4010677\ttotal: 2.81s\tremaining: 3.57s\n",
            "176:\tlearn: 0.4009904\ttotal: 2.82s\tremaining: 3.56s\n",
            "177:\tlearn: 0.4009553\ttotal: 2.85s\tremaining: 3.55s\n",
            "178:\tlearn: 0.4009058\ttotal: 2.87s\tremaining: 3.54s\n",
            "179:\tlearn: 0.4008639\ttotal: 2.89s\tremaining: 3.53s\n",
            "180:\tlearn: 0.4008322\ttotal: 2.91s\tremaining: 3.52s\n",
            "181:\tlearn: 0.4007645\ttotal: 2.93s\tremaining: 3.51s\n",
            "182:\tlearn: 0.4007332\ttotal: 2.95s\tremaining: 3.5s\n",
            "183:\tlearn: 0.4007178\ttotal: 2.98s\tremaining: 3.5s\n",
            "184:\tlearn: 0.4006682\ttotal: 3s\tremaining: 3.49s\n",
            "185:\tlearn: 0.4004885\ttotal: 3.02s\tremaining: 3.48s\n",
            "186:\tlearn: 0.4004152\ttotal: 3.04s\tremaining: 3.46s\n",
            "187:\tlearn: 0.4002610\ttotal: 3.06s\tremaining: 3.46s\n",
            "188:\tlearn: 0.4001295\ttotal: 3.08s\tremaining: 3.44s\n",
            "189:\tlearn: 0.4000020\ttotal: 3.1s\tremaining: 3.43s\n",
            "190:\tlearn: 0.3999381\ttotal: 3.12s\tremaining: 3.42s\n",
            "191:\tlearn: 0.3998645\ttotal: 3.14s\tremaining: 3.4s\n",
            "192:\tlearn: 0.3998003\ttotal: 3.15s\tremaining: 3.38s\n",
            "193:\tlearn: 0.3997808\ttotal: 3.18s\tremaining: 3.37s\n",
            "194:\tlearn: 0.3997525\ttotal: 3.19s\tremaining: 3.35s\n",
            "195:\tlearn: 0.3995783\ttotal: 3.22s\tremaining: 3.35s\n",
            "196:\tlearn: 0.3995099\ttotal: 3.24s\tremaining: 3.33s\n",
            "197:\tlearn: 0.3994479\ttotal: 3.26s\tremaining: 3.32s\n",
            "198:\tlearn: 0.3993666\ttotal: 3.28s\tremaining: 3.31s\n",
            "199:\tlearn: 0.3993503\ttotal: 3.3s\tremaining: 3.3s\n",
            "200:\tlearn: 0.3992069\ttotal: 3.31s\tremaining: 3.28s\n",
            "201:\tlearn: 0.3991447\ttotal: 3.33s\tremaining: 3.27s\n",
            "202:\tlearn: 0.3991107\ttotal: 3.35s\tremaining: 3.25s\n",
            "203:\tlearn: 0.3989307\ttotal: 3.38s\tremaining: 3.24s\n",
            "204:\tlearn: 0.3988885\ttotal: 3.4s\tremaining: 3.23s\n",
            "205:\tlearn: 0.3988000\ttotal: 3.43s\tremaining: 3.23s\n",
            "206:\tlearn: 0.3987359\ttotal: 3.45s\tremaining: 3.22s\n",
            "207:\tlearn: 0.3986123\ttotal: 3.47s\tremaining: 3.2s\n",
            "208:\tlearn: 0.3985513\ttotal: 3.5s\tremaining: 3.2s\n",
            "209:\tlearn: 0.3984734\ttotal: 3.53s\tremaining: 3.19s\n",
            "210:\tlearn: 0.3983690\ttotal: 3.55s\tremaining: 3.18s\n",
            "211:\tlearn: 0.3983588\ttotal: 3.57s\tremaining: 3.17s\n",
            "212:\tlearn: 0.3982996\ttotal: 3.6s\tremaining: 3.16s\n",
            "213:\tlearn: 0.3982696\ttotal: 3.61s\tremaining: 3.14s\n",
            "214:\tlearn: 0.3982036\ttotal: 3.62s\tremaining: 3.11s\n",
            "215:\tlearn: 0.3981889\ttotal: 3.63s\tremaining: 3.09s\n",
            "216:\tlearn: 0.3980808\ttotal: 3.64s\tremaining: 3.07s\n",
            "217:\tlearn: 0.3979337\ttotal: 3.65s\tremaining: 3.04s\n",
            "218:\tlearn: 0.3978416\ttotal: 3.65s\tremaining: 3.02s\n",
            "219:\tlearn: 0.3977867\ttotal: 3.66s\tremaining: 3s\n",
            "220:\tlearn: 0.3977018\ttotal: 3.67s\tremaining: 2.97s\n",
            "221:\tlearn: 0.3976973\ttotal: 3.68s\tremaining: 2.95s\n",
            "222:\tlearn: 0.3976665\ttotal: 3.69s\tremaining: 2.93s\n",
            "223:\tlearn: 0.3975544\ttotal: 3.7s\tremaining: 2.9s\n",
            "224:\tlearn: 0.3975431\ttotal: 3.71s\tremaining: 2.88s\n",
            "225:\tlearn: 0.3974264\ttotal: 3.72s\tremaining: 2.86s\n",
            "226:\tlearn: 0.3971723\ttotal: 3.73s\tremaining: 2.84s\n",
            "227:\tlearn: 0.3970905\ttotal: 3.74s\tremaining: 2.82s\n",
            "228:\tlearn: 0.3970870\ttotal: 3.75s\tremaining: 2.8s\n",
            "229:\tlearn: 0.3970651\ttotal: 3.76s\tremaining: 2.78s\n",
            "230:\tlearn: 0.3970550\ttotal: 3.76s\tremaining: 2.75s\n",
            "231:\tlearn: 0.3970058\ttotal: 3.77s\tremaining: 2.73s\n",
            "232:\tlearn: 0.3969579\ttotal: 3.78s\tremaining: 2.71s\n",
            "233:\tlearn: 0.3968637\ttotal: 3.79s\tremaining: 2.69s\n",
            "234:\tlearn: 0.3967907\ttotal: 3.8s\tremaining: 2.67s\n",
            "235:\tlearn: 0.3967509\ttotal: 3.81s\tremaining: 2.65s\n",
            "236:\tlearn: 0.3967172\ttotal: 3.83s\tremaining: 2.63s\n",
            "237:\tlearn: 0.3967027\ttotal: 3.83s\tremaining: 2.61s\n",
            "238:\tlearn: 0.3965881\ttotal: 3.84s\tremaining: 2.59s\n",
            "239:\tlearn: 0.3964751\ttotal: 3.85s\tremaining: 2.57s\n",
            "240:\tlearn: 0.3964586\ttotal: 3.86s\tremaining: 2.55s\n",
            "241:\tlearn: 0.3964133\ttotal: 3.87s\tremaining: 2.53s\n",
            "242:\tlearn: 0.3964133\ttotal: 3.88s\tremaining: 2.5s\n",
            "243:\tlearn: 0.3962973\ttotal: 3.88s\tremaining: 2.48s\n",
            "244:\tlearn: 0.3962734\ttotal: 3.89s\tremaining: 2.46s\n",
            "245:\tlearn: 0.3962696\ttotal: 3.9s\tremaining: 2.44s\n",
            "246:\tlearn: 0.3962338\ttotal: 3.92s\tremaining: 2.42s\n",
            "247:\tlearn: 0.3961047\ttotal: 3.92s\tremaining: 2.41s\n",
            "248:\tlearn: 0.3960292\ttotal: 3.93s\tremaining: 2.38s\n",
            "249:\tlearn: 0.3959995\ttotal: 3.94s\tremaining: 2.37s\n",
            "250:\tlearn: 0.3959486\ttotal: 3.95s\tremaining: 2.35s\n",
            "251:\tlearn: 0.3958715\ttotal: 3.96s\tremaining: 2.33s\n",
            "252:\tlearn: 0.3958353\ttotal: 3.97s\tremaining: 2.31s\n",
            "253:\tlearn: 0.3957799\ttotal: 3.98s\tremaining: 2.29s\n",
            "254:\tlearn: 0.3957368\ttotal: 3.99s\tremaining: 2.27s\n",
            "255:\tlearn: 0.3956430\ttotal: 3.99s\tremaining: 2.25s\n",
            "256:\tlearn: 0.3955652\ttotal: 4s\tremaining: 2.23s\n",
            "257:\tlearn: 0.3955635\ttotal: 4.01s\tremaining: 2.21s\n",
            "258:\tlearn: 0.3954990\ttotal: 4.02s\tremaining: 2.19s\n",
            "259:\tlearn: 0.3954908\ttotal: 4.03s\tremaining: 2.17s\n",
            "260:\tlearn: 0.3954761\ttotal: 4.04s\tremaining: 2.15s\n",
            "261:\tlearn: 0.3953968\ttotal: 4.04s\tremaining: 2.13s\n",
            "262:\tlearn: 0.3953876\ttotal: 4.05s\tremaining: 2.11s\n",
            "263:\tlearn: 0.3952624\ttotal: 4.06s\tremaining: 2.09s\n",
            "264:\tlearn: 0.3951086\ttotal: 4.07s\tremaining: 2.07s\n",
            "265:\tlearn: 0.3950331\ttotal: 4.08s\tremaining: 2.06s\n",
            "266:\tlearn: 0.3949754\ttotal: 4.09s\tremaining: 2.04s\n",
            "267:\tlearn: 0.3949634\ttotal: 4.1s\tremaining: 2.02s\n",
            "268:\tlearn: 0.3949014\ttotal: 4.11s\tremaining: 2s\n",
            "269:\tlearn: 0.3948949\ttotal: 4.12s\tremaining: 1.98s\n",
            "270:\tlearn: 0.3947878\ttotal: 4.13s\tremaining: 1.97s\n",
            "271:\tlearn: 0.3947193\ttotal: 4.14s\tremaining: 1.95s\n",
            "272:\tlearn: 0.3946062\ttotal: 4.15s\tremaining: 1.93s\n",
            "273:\tlearn: 0.3945032\ttotal: 4.16s\tremaining: 1.91s\n",
            "274:\tlearn: 0.3943967\ttotal: 4.17s\tremaining: 1.89s\n",
            "275:\tlearn: 0.3943594\ttotal: 4.17s\tremaining: 1.88s\n",
            "276:\tlearn: 0.3942762\ttotal: 4.18s\tremaining: 1.86s\n",
            "277:\tlearn: 0.3941313\ttotal: 4.19s\tremaining: 1.84s\n",
            "278:\tlearn: 0.3941244\ttotal: 4.2s\tremaining: 1.82s\n",
            "279:\tlearn: 0.3940933\ttotal: 4.21s\tremaining: 1.8s\n",
            "280:\tlearn: 0.3940644\ttotal: 4.22s\tremaining: 1.79s\n",
            "281:\tlearn: 0.3939012\ttotal: 4.23s\tremaining: 1.77s\n",
            "282:\tlearn: 0.3937566\ttotal: 4.24s\tremaining: 1.75s\n",
            "283:\tlearn: 0.3937025\ttotal: 4.25s\tremaining: 1.74s\n",
            "284:\tlearn: 0.3936970\ttotal: 4.26s\tremaining: 1.72s\n",
            "285:\tlearn: 0.3936626\ttotal: 4.27s\tremaining: 1.7s\n",
            "286:\tlearn: 0.3935668\ttotal: 4.28s\tremaining: 1.69s\n",
            "287:\tlearn: 0.3934670\ttotal: 4.29s\tremaining: 1.67s\n",
            "288:\tlearn: 0.3932055\ttotal: 4.3s\tremaining: 1.65s\n",
            "289:\tlearn: 0.3931868\ttotal: 4.31s\tremaining: 1.63s\n",
            "290:\tlearn: 0.3931806\ttotal: 4.32s\tremaining: 1.62s\n",
            "291:\tlearn: 0.3931675\ttotal: 4.33s\tremaining: 1.6s\n",
            "292:\tlearn: 0.3930856\ttotal: 4.34s\tremaining: 1.58s\n",
            "293:\tlearn: 0.3929286\ttotal: 4.34s\tremaining: 1.57s\n",
            "294:\tlearn: 0.3929204\ttotal: 4.36s\tremaining: 1.55s\n",
            "295:\tlearn: 0.3928764\ttotal: 4.36s\tremaining: 1.53s\n",
            "296:\tlearn: 0.3928443\ttotal: 4.37s\tremaining: 1.52s\n",
            "297:\tlearn: 0.3927095\ttotal: 4.38s\tremaining: 1.5s\n",
            "298:\tlearn: 0.3926869\ttotal: 4.39s\tremaining: 1.48s\n",
            "299:\tlearn: 0.3924655\ttotal: 4.4s\tremaining: 1.47s\n",
            "300:\tlearn: 0.3924439\ttotal: 4.41s\tremaining: 1.45s\n",
            "301:\tlearn: 0.3924218\ttotal: 4.43s\tremaining: 1.44s\n",
            "302:\tlearn: 0.3922975\ttotal: 4.44s\tremaining: 1.42s\n",
            "303:\tlearn: 0.3922101\ttotal: 4.45s\tremaining: 1.4s\n",
            "304:\tlearn: 0.3921982\ttotal: 4.46s\tremaining: 1.39s\n",
            "305:\tlearn: 0.3921434\ttotal: 4.47s\tremaining: 1.37s\n",
            "306:\tlearn: 0.3921235\ttotal: 4.48s\tremaining: 1.36s\n",
            "307:\tlearn: 0.3920944\ttotal: 4.49s\tremaining: 1.34s\n",
            "308:\tlearn: 0.3920377\ttotal: 4.5s\tremaining: 1.32s\n",
            "309:\tlearn: 0.3919535\ttotal: 4.5s\tremaining: 1.31s\n",
            "310:\tlearn: 0.3917572\ttotal: 4.51s\tremaining: 1.29s\n",
            "311:\tlearn: 0.3917519\ttotal: 4.52s\tremaining: 1.27s\n",
            "312:\tlearn: 0.3917064\ttotal: 4.53s\tremaining: 1.26s\n",
            "313:\tlearn: 0.3917022\ttotal: 4.54s\tremaining: 1.24s\n",
            "314:\tlearn: 0.3916770\ttotal: 4.55s\tremaining: 1.23s\n",
            "315:\tlearn: 0.3916453\ttotal: 4.56s\tremaining: 1.21s\n",
            "316:\tlearn: 0.3915774\ttotal: 4.57s\tremaining: 1.2s\n",
            "317:\tlearn: 0.3915620\ttotal: 4.58s\tremaining: 1.18s\n",
            "318:\tlearn: 0.3915263\ttotal: 4.59s\tremaining: 1.17s\n",
            "319:\tlearn: 0.3913283\ttotal: 4.6s\tremaining: 1.15s\n",
            "320:\tlearn: 0.3912908\ttotal: 4.61s\tremaining: 1.13s\n",
            "321:\tlearn: 0.3912867\ttotal: 4.62s\tremaining: 1.12s\n",
            "322:\tlearn: 0.3912599\ttotal: 4.63s\tremaining: 1.1s\n",
            "323:\tlearn: 0.3911127\ttotal: 4.63s\tremaining: 1.09s\n",
            "324:\tlearn: 0.3910610\ttotal: 4.64s\tremaining: 1.07s\n",
            "325:\tlearn: 0.3909600\ttotal: 4.65s\tremaining: 1.06s\n",
            "326:\tlearn: 0.3909407\ttotal: 4.66s\tremaining: 1.04s\n",
            "327:\tlearn: 0.3909130\ttotal: 4.67s\tremaining: 1.02s\n",
            "328:\tlearn: 0.3908967\ttotal: 4.68s\tremaining: 1.01s\n",
            "329:\tlearn: 0.3907167\ttotal: 4.69s\tremaining: 995ms\n",
            "330:\tlearn: 0.3906821\ttotal: 4.7s\tremaining: 979ms\n",
            "331:\tlearn: 0.3904684\ttotal: 4.71s\tremaining: 964ms\n",
            "332:\tlearn: 0.3902785\ttotal: 4.71s\tremaining: 949ms\n",
            "333:\tlearn: 0.3902760\ttotal: 4.73s\tremaining: 934ms\n",
            "334:\tlearn: 0.3902113\ttotal: 4.74s\tremaining: 919ms\n",
            "335:\tlearn: 0.3901340\ttotal: 4.74s\tremaining: 904ms\n",
            "336:\tlearn: 0.3899976\ttotal: 4.75s\tremaining: 889ms\n",
            "337:\tlearn: 0.3899756\ttotal: 4.76s\tremaining: 874ms\n",
            "338:\tlearn: 0.3899715\ttotal: 4.77s\tremaining: 858ms\n",
            "339:\tlearn: 0.3898082\ttotal: 4.78s\tremaining: 844ms\n",
            "340:\tlearn: 0.3897765\ttotal: 4.79s\tremaining: 829ms\n",
            "341:\tlearn: 0.3896412\ttotal: 4.8s\tremaining: 814ms\n",
            "342:\tlearn: 0.3896062\ttotal: 4.81s\tremaining: 799ms\n",
            "343:\tlearn: 0.3895847\ttotal: 4.82s\tremaining: 784ms\n",
            "344:\tlearn: 0.3895750\ttotal: 4.83s\tremaining: 770ms\n",
            "345:\tlearn: 0.3895100\ttotal: 4.84s\tremaining: 755ms\n",
            "346:\tlearn: 0.3893850\ttotal: 4.85s\tremaining: 740ms\n",
            "347:\tlearn: 0.3892589\ttotal: 4.86s\tremaining: 726ms\n",
            "348:\tlearn: 0.3892306\ttotal: 4.87s\tremaining: 711ms\n",
            "349:\tlearn: 0.3891432\ttotal: 4.88s\tremaining: 697ms\n",
            "350:\tlearn: 0.3890730\ttotal: 4.89s\tremaining: 683ms\n",
            "351:\tlearn: 0.3889293\ttotal: 4.9s\tremaining: 668ms\n",
            "352:\tlearn: 0.3887630\ttotal: 4.91s\tremaining: 654ms\n",
            "353:\tlearn: 0.3886663\ttotal: 4.92s\tremaining: 639ms\n",
            "354:\tlearn: 0.3884691\ttotal: 4.93s\tremaining: 625ms\n",
            "355:\tlearn: 0.3883936\ttotal: 4.94s\tremaining: 611ms\n",
            "356:\tlearn: 0.3883803\ttotal: 4.95s\tremaining: 596ms\n",
            "357:\tlearn: 0.3882374\ttotal: 4.96s\tremaining: 582ms\n",
            "358:\tlearn: 0.3880015\ttotal: 4.97s\tremaining: 567ms\n",
            "359:\tlearn: 0.3879841\ttotal: 4.98s\tremaining: 553ms\n",
            "360:\tlearn: 0.3879283\ttotal: 4.99s\tremaining: 539ms\n",
            "361:\tlearn: 0.3879205\ttotal: 5s\tremaining: 524ms\n",
            "362:\tlearn: 0.3877839\ttotal: 5s\tremaining: 510ms\n",
            "363:\tlearn: 0.3877088\ttotal: 5.01s\tremaining: 496ms\n",
            "364:\tlearn: 0.3876695\ttotal: 5.02s\tremaining: 482ms\n",
            "365:\tlearn: 0.3876647\ttotal: 5.03s\tremaining: 467ms\n",
            "366:\tlearn: 0.3876638\ttotal: 5.04s\tremaining: 453ms\n",
            "367:\tlearn: 0.3876410\ttotal: 5.05s\tremaining: 439ms\n",
            "368:\tlearn: 0.3876230\ttotal: 5.06s\tremaining: 425ms\n",
            "369:\tlearn: 0.3874803\ttotal: 5.07s\tremaining: 411ms\n",
            "370:\tlearn: 0.3874285\ttotal: 5.08s\tremaining: 397ms\n",
            "371:\tlearn: 0.3874190\ttotal: 5.09s\tremaining: 383ms\n",
            "372:\tlearn: 0.3873791\ttotal: 5.09s\tremaining: 369ms\n",
            "373:\tlearn: 0.3873039\ttotal: 5.11s\tremaining: 355ms\n",
            "374:\tlearn: 0.3872978\ttotal: 5.11s\tremaining: 341ms\n",
            "375:\tlearn: 0.3871864\ttotal: 5.12s\tremaining: 327ms\n",
            "376:\tlearn: 0.3871847\ttotal: 5.14s\tremaining: 313ms\n",
            "377:\tlearn: 0.3871841\ttotal: 5.14s\tremaining: 299ms\n",
            "378:\tlearn: 0.3870723\ttotal: 5.15s\tremaining: 286ms\n",
            "379:\tlearn: 0.3869402\ttotal: 5.17s\tremaining: 272ms\n",
            "380:\tlearn: 0.3868920\ttotal: 5.18s\tremaining: 258ms\n",
            "381:\tlearn: 0.3867728\ttotal: 5.19s\tremaining: 245ms\n",
            "382:\tlearn: 0.3867124\ttotal: 5.2s\tremaining: 231ms\n",
            "383:\tlearn: 0.3866689\ttotal: 5.21s\tremaining: 217ms\n",
            "384:\tlearn: 0.3865846\ttotal: 5.22s\tremaining: 203ms\n",
            "385:\tlearn: 0.3864091\ttotal: 5.23s\tremaining: 190ms\n",
            "386:\tlearn: 0.3863689\ttotal: 5.24s\tremaining: 176ms\n",
            "387:\tlearn: 0.3862913\ttotal: 5.25s\tremaining: 162ms\n",
            "388:\tlearn: 0.3861416\ttotal: 5.25s\tremaining: 149ms\n",
            "389:\tlearn: 0.3860161\ttotal: 5.26s\tremaining: 135ms\n",
            "390:\tlearn: 0.3859066\ttotal: 5.27s\tremaining: 121ms\n",
            "391:\tlearn: 0.3858822\ttotal: 5.28s\tremaining: 108ms\n",
            "392:\tlearn: 0.3857957\ttotal: 5.29s\tremaining: 94.2ms\n",
            "393:\tlearn: 0.3857654\ttotal: 5.3s\tremaining: 80.7ms\n",
            "394:\tlearn: 0.3857642\ttotal: 5.31s\tremaining: 67.2ms\n",
            "395:\tlearn: 0.3857244\ttotal: 5.32s\tremaining: 53.7ms\n",
            "396:\tlearn: 0.3856546\ttotal: 5.33s\tremaining: 40.2ms\n",
            "397:\tlearn: 0.3856456\ttotal: 5.34s\tremaining: 26.8ms\n",
            "398:\tlearn: 0.3855990\ttotal: 5.35s\tremaining: 13.4ms\n",
            "399:\tlearn: 0.3855771\ttotal: 5.36s\tremaining: 0us\n"
          ]
        },
        {
          "output_type": "execute_result",
          "data": {
            "text/plain": [
              "<catboost.core.CatBoostClassifier at 0x7f33d851f9d0>"
            ]
          },
          "metadata": {},
          "execution_count": 154
        }
      ]
    },
    {
      "cell_type": "code",
      "source": [
        "y_train_predicted = boosting_model.predict_proba(X_train)[:, 1]\n",
        "y_test_predicted = boosting_model.predict_proba(X_test)[:, 1]\n",
        "\n",
        "train_auc = roc_auc_score(y_train, y_train_predicted)\n",
        "test_auc = roc_auc_score(y_test, y_test_predicted)\n",
        "print(train_auc, test_auc, sep='\\n')"
      ],
      "metadata": {
        "colab": {
          "base_uri": "https://localhost:8080/"
        },
        "id": "F07ZuJNFv_WA",
        "outputId": "6ebda090-c80d-4a91-a756-ef19cf93846b"
      },
      "execution_count": 155,
      "outputs": [
        {
          "output_type": "stream",
          "name": "stdout",
          "text": [
            "0.8632737150548756\n",
            "0.8571577339627882\n"
          ]
        }
      ]
    },
    {
      "cell_type": "code",
      "source": [
        "plt.figure(figsize=(10,7))\n",
        "plt.plot(*roc_curve(y_train, y_train_predicted)[:2], label='train AUC={:.4f}'.format(train_auc))\n",
        "plt.plot(*roc_curve(y_test, y_test_predicted)[:2], label='test AUC={:.4f}'.format(test_auc))\n",
        "legend_box = plt.legend(fontsize='large', framealpha=1).get_frame()\n",
        "legend_box.set_facecolor(\"white\")\n",
        "legend_box.set_edgecolor(\"black\")\n",
        "plt.plot(np.linspace(0,1,100), np.linspace(0,1,100))\n",
        "plt.show()"
      ],
      "metadata": {
        "id": "9N453aLwTnPC",
        "colab": {
          "base_uri": "https://localhost:8080/",
          "height": 428
        },
        "outputId": "3092ee0a-186e-4651-8fa1-4c60b3a329ab"
      },
      "execution_count": 156,
      "outputs": [
        {
          "output_type": "display_data",
          "data": {
            "text/plain": [
              "<Figure size 720x504 with 1 Axes>"
            ],
            "image/png": "[encoded data removed]"
          },
          "metadata": {
            "needs_background": "light"
          }
        }
      ]
    },
    {
      "cell_type": "markdown",
      "metadata": {
        "id": "d2d9GolXEEZV"
      },
      "source": [
        "ВАШ ОТВЕТ\n",
        "\n",
        "train_auc: 0.8632737150548756\n",
        "test_auc: 0.8571577339627882\n",
        "\n",
        "parametrs: {iterations=400, learning_rate=0.03, depth=4, l2_leaf_reg=3, loss_function='Logloss'}\n",
        "\n",
        "(на kaggle показала лучший результат)"
      ]
    },
    {
      "cell_type": "markdown",
      "metadata": {
        "id": "dDMXbvNZEEZV"
      },
      "source": [
        "# Предсказания"
      ]
    },
    {
      "cell_type": "code",
      "metadata": {
        "id": "G_P4wFNaEEZW"
      },
      "source": [
        "best_model = boosting_model"
      ],
      "execution_count": 149,
      "outputs": []
    },
    {
      "cell_type": "code",
      "metadata": {
        "id": "FfSufx0CEEZZ"
      },
      "source": [
        "X_test = pd.read_csv('./test.csv')\n",
        "submission = pd.read_csv('./submission.csv')\n",
        "\n",
        "X_test.replace(' ', np.nan, inplace=True)\n",
        "X_test['TotalSpent'] = X_test['TotalSpent'].fillna(0).astype(float)\n",
        "\n",
        "submission['Churn'] = best_model.predict_proba(X_test)[:, 1]\n",
        "\n",
        "submission.to_csv('./my_submission.csv', index=False)"
      ],
      "execution_count": 150,
      "outputs": []
    },
    {
      "cell_type": "markdown",
      "source": [
        "Лучшее решение отправьте в Stepik."
      ],
      "metadata": {
        "id": "tzGirrp5l2I-"
      }
    }
  ]
}
